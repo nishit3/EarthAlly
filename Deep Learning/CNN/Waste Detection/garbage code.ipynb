{
 "cells": [
  {
   "cell_type": "code",
   "execution_count": 1,
   "metadata": {},
   "outputs": [
    {
     "name": "stderr",
     "output_type": "stream",
     "text": [
      "C:\\Users\\Vansh\\AppData\\Local\\Temp\\ipykernel_5488\\2964899601.py:3: DeprecationWarning: \n",
      "Pyarrow will become a required dependency of pandas in the next major release of pandas (pandas 3.0),\n",
      "(to allow more performant data types, such as the Arrow string type, and better interoperability with other libraries)\n",
      "but was not found to be installed on your system.\n",
      "If this would cause problems for you,\n",
      "please provide us feedback at https://github.com/pandas-dev/pandas/issues/54466\n",
      "        \n",
      "  import pandas as pd\n",
      "c:\\Pytorchenv\\TorchEnv\\lib\\site-packages\\tqdm\\auto.py:21: TqdmWarning: IProgress not found. Please update jupyter and ipywidgets. See https://ipywidgets.readthedocs.io/en/stable/user_install.html\n",
      "  from .autonotebook import tqdm as notebook_tqdm\n"
     ]
    }
   ],
   "source": [
    "import os\n",
    "import numpy as np\n",
    "import pandas as pd\n",
    "import matplotlib.pyplot as plt\n",
    "import cv2\n",
    "import torch\n",
    "import torch.nn as nn\n",
    "import torch.nn.functional as F\n",
    "import torch.optim as optim\n",
    "from torchvision import datasets\n",
    "from torch.utils.data import DataLoader\n",
    "import torchvision\n",
    "import torchvision.transforms as transforms\n",
    "use_cuda = torch.cuda.is_available()\n",
    "device   = torch.device(\"cuda\" if use_cuda else \"cpu\")\n",
    "from sklearn.model_selection import train_test_split\n",
    "from torch.utils.data import Dataset\n",
    "from PIL import Image\n"
   ]
  },
  {
   "cell_type": "code",
   "execution_count": 2,
   "metadata": {},
   "outputs": [],
   "source": [
    "train_folder = r'C:\\Users\\Vansh\\Desktop\\projects\\Maverick\\Garbage\\Training'\n",
    "test_folder = r'C:\\Users\\Vansh\\Desktop\\projects\\Maverick\\Garbage\\test'\n",
    "val_folder = r'C:\\Users\\Vansh\\Desktop\\projects\\Maverick\\Garbage\\validation'"
   ]
  },
  {
   "cell_type": "code",
   "execution_count": 3,
   "metadata": {},
   "outputs": [],
   "source": [
    "\"\"\"import os\n",
    "import shutil\n",
    "from sklearn.model_selection import train_test_split\n",
    "\n",
    "# Define paths\n",
    "source_folder = r\"C:\\Users\\Vansh\\Desktop\\projects\\Maverick\\Garbage\\New folder\"\n",
    "train_folder = r'C:\\Users\\Vansh\\Desktop\\projects\\Maverick\\Garbage\\Training'\n",
    "test_folder = r'C:\\Users\\Vansh\\Desktop\\projects\\Maverick\\Garbage\\test'\n",
    "val_folder = r'C:\\Users\\Vansh\\Desktop\\projects\\Maverick\\Garbage\\validation'\n",
    "\n",
    "# Create train and test folders if they don't exist\n",
    "os.makedirs(train_folder, exist_ok=True)\n",
    "os.makedirs(test_folder, exist_ok=True)\n",
    "os.makedirs(val_folder, exist_ok=True)\n",
    "# Get a list of all subfolders in the source folder\n",
    "subfolders = [f for f in os.listdir(source_folder) if os.path.isdir(os.path.join(source_folder, f))]\n",
    "\n",
    "for subfolder in subfolders:\n",
    "    # Create subfolders in train and test folders\n",
    "    os.makedirs(os.path.join(train_folder, subfolder), exist_ok=True)\n",
    "    os.makedirs(os.path.join(test_folder, subfolder), exist_ok=True)\n",
    "    os.makedirs(os.path.join(val_folder, subfolder), exist_ok=True)\n",
    "    # Get a list of all image files in the subfolder\n",
    "    image_files = [f for f in os.listdir(os.path.join(source_folder, subfolder)) if os.path.isfile(os.path.join(source_folder, subfolder, f))]\n",
    "\n",
    "    # Split the dataset into train and test sets\n",
    "    train_files, test_files = train_test_split(image_files, test_size=0.2, random_state=42) # SPLIT SIZE CHANGE HERE\n",
    "    train_files, val_files = train_test_split(train_files, test_size=0.25, random_state=42)\n",
    "    # Move files to respective folders\n",
    "    for file_name in train_files:\n",
    "        source_path = os.path.join(source_folder, subfolder, file_name)\n",
    "        destination_path = os.path.join(train_folder, subfolder, file_name)\n",
    "        shutil.copy(source_path, destination_path)\n",
    "\n",
    "    for file_name in test_files:\n",
    "        source_path = os.path.join(source_folder, subfolder, file_name)\n",
    "        destination_path = os.path.join(test_folder, subfolder, file_name)\n",
    "        shutil.copy(source_path, destination_path)\n",
    "    \n",
    "    for file_name in val_files:\n",
    "        source_path = os.path.join(source_folder, subfolder, file_name)\n",
    "        destination_path = os.path.join(val_folder, subfolder, file_name)\n",
    "        shutil.copy(source_path, destination_path)\"\"\""
   ]
  },
  {
   "cell_type": "code",
   "execution_count": 4,
   "metadata": {},
   "outputs": [],
   "source": [
    "num_classes = 8\n",
    "learning_rate = 1e-4\n",
    "batch_size = 16\n",
    "num_epochs = 30"
   ]
  },
  {
   "cell_type": "code",
   "execution_count": 5,
   "metadata": {},
   "outputs": [
    {
     "name": "stdout",
     "output_type": "stream",
     "text": [
      "Number of images in the training dataloader: 1653\n",
      "Number of images in the validation dataloader: 555\n",
      "Number of images in the testing dataloader: 556\n"
     ]
    }
   ],
   "source": [
    "from torch.utils.data import DataLoader\n",
    "import torch\n",
    "import torchvision.transforms as transforms\n",
    "from torchvision import datasets\n",
    "\n",
    "\n",
    "train_dataset = datasets.ImageFolder(root=train_folder, transform=transforms.Compose([\n",
    "    transforms.Resize((224,224)),\n",
    "    transforms.ToTensor(),\n",
    "    #transforms.RandomAdjustSharpness(0.4),\n",
    "    #transforms.RandomAutocontrast(),\n",
    "    #transforms.Grayscale(num_output_channels=3),\n",
    "    transforms.Normalize((0.485, 0.456, 0.406), (0.229, 0.224, 0.225)),  # Normalize to range [-1, 1]\n",
    "]))\n",
    "\n",
    "val_dataset = datasets.ImageFolder(root=val_folder, transform=transforms.Compose([\n",
    "    transforms.Resize((224,224)),\n",
    "    transforms.ToTensor(),\n",
    "    #transforms.RandomAdjustSharpness(0.4),\n",
    "    #transforms.RandomAutocontrast(),\n",
    "    #transforms.Grayscale(num_output_channels=3),\n",
    "    transforms.Normalize((0.485, 0.456, 0.406), (0.229, 0.224, 0.225)),  # Normalize to range [-1, 1]\n",
    "]))\n",
    "test_dataset = datasets.ImageFolder(root=test_folder, transform=transforms.Compose([\n",
    "    transforms.Resize((224,224)),\n",
    "    transforms.ToTensor(),\n",
    "    #transforms.RandomAdjustSharpness(0.4),\n",
    "    #transforms.RandomAutocontrast(),\n",
    "    #transforms.Grayscale(num_output_channels=3),\n",
    "    transforms.Normalize((0.485, 0.456, 0.406), (0.229, 0.224, 0.225)),  # Normalize to range [-1, 1]\n",
    "]))\n",
    "\n",
    "\n",
    "\n",
    "train_loader = DataLoader(train_dataset, batch_size=batch_size, shuffle=True)\n",
    "\n",
    "val_loader = DataLoader(val_dataset, batch_size=batch_size, shuffle=False)\n",
    "\n",
    "test_loader = DataLoader(test_dataset, batch_size=batch_size, shuffle=False)\n",
    "\n",
    "num_train_images = len(train_loader.dataset)\n",
    "print(f\"Number of images in the training dataloader: {num_train_images}\")\n",
    "\n",
    "\n",
    "num_val_images = len(val_loader.dataset)\n",
    "print(f\"Number of images in the validation dataloader: {num_val_images}\")\n",
    "\n",
    "num_test_images = len(test_loader.dataset)\n",
    "print(f\"Number of images in the testing dataloader: {num_test_images}\")\n"
   ]
  },
  {
   "cell_type": "code",
   "execution_count": 5,
   "metadata": {},
   "outputs": [],
   "source": [
    "\"\"\"import torch.nn as nn\n",
    "class CustomClassifier(nn.Module):\n",
    "    def __init__(self, in_features, num_classes=6):\n",
    "        super(CustomClassifier, self).__init__()\n",
    "        \n",
    "        self.fc1_1=nn.Linear(in_features=in_features, out_features=num_classes)\n",
    "        \n",
    "\n",
    "    def forward(self, x):\n",
    "        \n",
    "        x = self.fc1_1(x)\n",
    "       \n",
    "        return x\"\"\""
   ]
  },
  {
   "cell_type": "code",
   "execution_count": 6,
   "metadata": {},
   "outputs": [],
   "source": [
    "#from torchvision.models import densenet169,  DenseNet169_Weights\n",
    "#model=densenet169(weights=DenseNet169_Weights.IMAGENET1K_V1)"
   ]
  },
  {
   "cell_type": "code",
   "execution_count": 6,
   "metadata": {},
   "outputs": [
    {
     "name": "stdout",
     "output_type": "stream",
     "text": [
      "WARNING:tensorflow:From c:\\Pytorchenv\\TorchEnv\\lib\\site-packages\\keras\\src\\losses.py:2976: The name tf.losses.sparse_softmax_cross_entropy is deprecated. Please use tf.compat.v1.losses.sparse_softmax_cross_entropy instead.\n",
      "\n"
     ]
    }
   ],
   "source": [
    "from transformers import AutoImageProcessor, EfficientFormerForImageClassification\n",
    "import torch\n",
    "image_processor = AutoImageProcessor.from_pretrained(\"snap-research/efficientformer-l1-300\")\n",
    "model = EfficientFormerForImageClassification.from_pretrained(\"snap-research/efficientformer-l1-300\")"
   ]
  },
  {
   "cell_type": "code",
   "execution_count": 7,
   "metadata": {},
   "outputs": [],
   "source": [
    "import torch.nn as nn\n",
    "class garbageClassifier(nn.Module):\n",
    "    def __init__(self, in_features, num_classes=8):\n",
    "        super(garbageClassifier, self).__init__()\n",
    "        \n",
    "        self.fc1_1=nn.Linear(in_features=448, out_features=num_classes)\n",
    "        \n",
    "\n",
    "    def forward(self, x):\n",
    "        \n",
    "        x = self.fc1_1(x)\n",
    "       \n",
    "        return x"
   ]
  },
  {
   "cell_type": "code",
   "execution_count": 8,
   "metadata": {},
   "outputs": [
    {
     "data": {
      "text/plain": [
       "EfficientFormerForImageClassification(\n",
       "  (efficientformer): EfficientFormerModel(\n",
       "    (patch_embed): EfficientFormerConvStem(\n",
       "      (convolution1): Conv2d(3, 24, kernel_size=(3, 3), stride=(2, 2), padding=(1, 1))\n",
       "      (batchnorm_before): BatchNorm2d(24, eps=1e-05, momentum=0.1, affine=True, track_running_stats=True)\n",
       "      (convolution2): Conv2d(24, 48, kernel_size=(3, 3), stride=(2, 2), padding=(1, 1))\n",
       "      (batchnorm_after): BatchNorm2d(48, eps=1e-05, momentum=0.1, affine=True, track_running_stats=True)\n",
       "      (activation): ReLU()\n",
       "    )\n",
       "    (encoder): EfficientFormerEncoder(\n",
       "      (intermediate_stages): ModuleList(\n",
       "        (0): EfficientFormerIntermediateStage(\n",
       "          (meta4D_layers): EfficientFormerMeta4DLayers(\n",
       "            (blocks): ModuleList(\n",
       "              (0-2): 3 x EfficientFormerMeta4D(\n",
       "                (token_mixer): EfficientFormerPooling(\n",
       "                  (pool): AvgPool2d(kernel_size=3, stride=1, padding=1)\n",
       "                )\n",
       "                (mlp): EfficientFormerConvMlp(\n",
       "                  (convolution1): Conv2d(48, 192, kernel_size=(1, 1), stride=(1, 1))\n",
       "                  (activation): GELUActivation()\n",
       "                  (convolution2): Conv2d(192, 48, kernel_size=(1, 1), stride=(1, 1))\n",
       "                  (dropout): Dropout(p=0.0, inplace=False)\n",
       "                  (batchnorm_before): BatchNorm2d(192, eps=1e-05, momentum=0.1, affine=True, track_running_stats=True)\n",
       "                  (batchnorm_after): BatchNorm2d(48, eps=1e-05, momentum=0.1, affine=True, track_running_stats=True)\n",
       "                )\n",
       "                (drop_path): Identity()\n",
       "              )\n",
       "            )\n",
       "          )\n",
       "        )\n",
       "        (1): EfficientFormerPatchEmbeddings(\n",
       "          (projection): Conv2d(48, 96, kernel_size=(3, 3), stride=(2, 2), padding=(1, 1))\n",
       "          (norm): BatchNorm2d(96, eps=1e-05, momentum=0.1, affine=True, track_running_stats=True)\n",
       "        )\n",
       "        (2): EfficientFormerIntermediateStage(\n",
       "          (meta4D_layers): EfficientFormerMeta4DLayers(\n",
       "            (blocks): ModuleList(\n",
       "              (0-1): 2 x EfficientFormerMeta4D(\n",
       "                (token_mixer): EfficientFormerPooling(\n",
       "                  (pool): AvgPool2d(kernel_size=3, stride=1, padding=1)\n",
       "                )\n",
       "                (mlp): EfficientFormerConvMlp(\n",
       "                  (convolution1): Conv2d(96, 384, kernel_size=(1, 1), stride=(1, 1))\n",
       "                  (activation): GELUActivation()\n",
       "                  (convolution2): Conv2d(384, 96, kernel_size=(1, 1), stride=(1, 1))\n",
       "                  (dropout): Dropout(p=0.0, inplace=False)\n",
       "                  (batchnorm_before): BatchNorm2d(384, eps=1e-05, momentum=0.1, affine=True, track_running_stats=True)\n",
       "                  (batchnorm_after): BatchNorm2d(96, eps=1e-05, momentum=0.1, affine=True, track_running_stats=True)\n",
       "                )\n",
       "                (drop_path): Identity()\n",
       "              )\n",
       "            )\n",
       "          )\n",
       "        )\n",
       "        (3): EfficientFormerPatchEmbeddings(\n",
       "          (projection): Conv2d(96, 224, kernel_size=(3, 3), stride=(2, 2), padding=(1, 1))\n",
       "          (norm): BatchNorm2d(224, eps=1e-05, momentum=0.1, affine=True, track_running_stats=True)\n",
       "        )\n",
       "        (4): EfficientFormerIntermediateStage(\n",
       "          (meta4D_layers): EfficientFormerMeta4DLayers(\n",
       "            (blocks): ModuleList(\n",
       "              (0-5): 6 x EfficientFormerMeta4D(\n",
       "                (token_mixer): EfficientFormerPooling(\n",
       "                  (pool): AvgPool2d(kernel_size=3, stride=1, padding=1)\n",
       "                )\n",
       "                (mlp): EfficientFormerConvMlp(\n",
       "                  (convolution1): Conv2d(224, 896, kernel_size=(1, 1), stride=(1, 1))\n",
       "                  (activation): GELUActivation()\n",
       "                  (convolution2): Conv2d(896, 224, kernel_size=(1, 1), stride=(1, 1))\n",
       "                  (dropout): Dropout(p=0.0, inplace=False)\n",
       "                  (batchnorm_before): BatchNorm2d(896, eps=1e-05, momentum=0.1, affine=True, track_running_stats=True)\n",
       "                  (batchnorm_after): BatchNorm2d(224, eps=1e-05, momentum=0.1, affine=True, track_running_stats=True)\n",
       "                )\n",
       "                (drop_path): Identity()\n",
       "              )\n",
       "            )\n",
       "          )\n",
       "        )\n",
       "        (5): EfficientFormerPatchEmbeddings(\n",
       "          (projection): Conv2d(224, 448, kernel_size=(3, 3), stride=(2, 2), padding=(1, 1))\n",
       "          (norm): BatchNorm2d(448, eps=1e-05, momentum=0.1, affine=True, track_running_stats=True)\n",
       "        )\n",
       "      )\n",
       "      (last_stage): EfficientFormerLastStage(\n",
       "        (meta4D_layers): EfficientFormerMeta4DLayers(\n",
       "          (blocks): ModuleList(\n",
       "            (0-2): 3 x EfficientFormerMeta4D(\n",
       "              (token_mixer): EfficientFormerPooling(\n",
       "                (pool): AvgPool2d(kernel_size=3, stride=1, padding=1)\n",
       "              )\n",
       "              (mlp): EfficientFormerConvMlp(\n",
       "                (convolution1): Conv2d(448, 1792, kernel_size=(1, 1), stride=(1, 1))\n",
       "                (activation): GELUActivation()\n",
       "                (convolution2): Conv2d(1792, 448, kernel_size=(1, 1), stride=(1, 1))\n",
       "                (dropout): Dropout(p=0.0, inplace=False)\n",
       "                (batchnorm_before): BatchNorm2d(1792, eps=1e-05, momentum=0.1, affine=True, track_running_stats=True)\n",
       "                (batchnorm_after): BatchNorm2d(448, eps=1e-05, momentum=0.1, affine=True, track_running_stats=True)\n",
       "              )\n",
       "              (drop_path): Identity()\n",
       "            )\n",
       "          )\n",
       "        )\n",
       "        (flat): EfficientFormerFlat()\n",
       "        (meta3D_layers): EfficientFormerMeta3DLayers(\n",
       "          (blocks): ModuleList(\n",
       "            (0): EfficientFormerMeta3D(\n",
       "              (token_mixer): EfficientFormerSelfAttention(\n",
       "                (qkv): Linear(in_features=448, out_features=1536, bias=True)\n",
       "                (projection): Linear(in_features=1024, out_features=448, bias=True)\n",
       "              )\n",
       "              (layernorm1): LayerNorm((448,), eps=1e-12, elementwise_affine=True)\n",
       "              (layernorm2): LayerNorm((448,), eps=1e-12, elementwise_affine=True)\n",
       "              (mlp): EfficientFormerDenseMlp(\n",
       "                (linear_in): Linear(in_features=448, out_features=1792, bias=True)\n",
       "                (activation): GELUActivation()\n",
       "                (dropout): Dropout(p=0.0, inplace=False)\n",
       "                (linear_out): Linear(in_features=1792, out_features=448, bias=True)\n",
       "              )\n",
       "              (drop_path): Identity()\n",
       "            )\n",
       "          )\n",
       "        )\n",
       "      )\n",
       "    )\n",
       "    (layernorm): LayerNorm((448,), eps=1e-12, elementwise_affine=True)\n",
       "  )\n",
       "  (classifier): garbageClassifier(\n",
       "    (fc1_1): Linear(in_features=448, out_features=8, bias=True)\n",
       "  )\n",
       ")"
      ]
     },
     "execution_count": 8,
     "metadata": {},
     "output_type": "execute_result"
    }
   ],
   "source": [
    "for name, param in model.named_parameters():\n",
    "    if not name.startswith('classifier'):  # Exclude parameters of the last classification layer\n",
    "        param.requires_grad = False\n",
    "\n",
    "\n",
    "\n",
    "num_ftrs = model.classifier\n",
    "model.classifier = garbageClassifier(num_ftrs)\n",
    "\n",
    "device = torch.device(\"cuda\" if torch.cuda.is_available() else \"cpu\")\n",
    "model.to(device)"
   ]
  },
  {
   "cell_type": "code",
   "execution_count": 9,
   "metadata": {},
   "outputs": [
    {
     "name": "stdout",
     "output_type": "stream",
     "text": [
      "=====================================================================================\n",
      "Layer (type:depth-idx)                                       Param #\n",
      "=====================================================================================\n",
      "├─EfficientFormerModel: 1-1                                  --\n",
      "|    └─EfficientFormerConvStem: 2-1                          --\n",
      "|    |    └─Conv2d: 3-1                                      (672)\n",
      "|    |    └─BatchNorm2d: 3-2                                 (48)\n",
      "|    |    └─Conv2d: 3-3                                      (10,416)\n",
      "|    |    └─BatchNorm2d: 3-4                                 (96)\n",
      "|    |    └─ReLU: 3-5                                        --\n",
      "|    └─EfficientFormerEncoder: 2-2                           --\n",
      "|    |    └─ModuleList: 3-6                                  (3,780,240)\n",
      "|    |    └─EfficientFormerLastStage: 3-7                    (7,599,560)\n",
      "|    └─LayerNorm: 2-3                                        (896)\n",
      "├─garbageClassifier: 1-2                                     --\n",
      "|    └─Linear: 2-4                                           3,592\n",
      "=====================================================================================\n",
      "Total params: 11,395,520\n",
      "Trainable params: 3,592\n",
      "Non-trainable params: 11,391,928\n",
      "=====================================================================================\n"
     ]
    }
   ],
   "source": [
    "from torchsummary import summary\n",
    "model_stats = summary(model, verbose=1)\n",
    "summary_str = str(model_stats)"
   ]
  },
  {
   "cell_type": "code",
   "execution_count": null,
   "metadata": {},
   "outputs": [],
   "source": []
  },
  {
   "cell_type": "code",
   "execution_count": null,
   "metadata": {},
   "outputs": [],
   "source": []
  },
  {
   "cell_type": "code",
   "execution_count": null,
   "metadata": {},
   "outputs": [],
   "source": [
    "\"\"\"from torchvision.models import densenet169,  DenseNet169_Weights\n",
    "\n",
    "model=densenet169(weights=DenseNet169_Weights.IMAGENET1K_V1)\n",
    "# Freeze all layers except the last classification layer\n",
    "for name, param in model.named_parameters():\n",
    "    if not name.startswith('classifier'):  # Exclude parameters of the last classification layer\n",
    "        param.requires_grad = False\n",
    "# Modify the last classification layer to have 4 output classes\n",
    "num_ftrs = model.classifier.in_features\n",
    "model.classifier = CustomClassifier(num_ftrs)\n",
    "\n",
    "device = torch.device(\"cuda\" if torch.cuda.is_available() else \"cpu\")\n",
    "model.to(device)\n",
    "print(model)\"\"\""
   ]
  },
  {
   "cell_type": "code",
   "execution_count": null,
   "metadata": {},
   "outputs": [],
   "source": [
    "\"\"\"from torchsummary import summary\n",
    "model_stats = summary(model, (3, 128, 128), verbose=1)\n",
    "summary_str = str(model_stats)\"\"\""
   ]
  },
  {
   "cell_type": "code",
   "execution_count": 10,
   "metadata": {},
   "outputs": [],
   "source": [
    "#from torch.optim import AdamW\n",
    "from tqdm import tqdm\n",
    "from lion_pytorch import Lion\n",
    "from sklearn.metrics import precision_score, recall_score, f1_score\n",
    "from torch.optim.lr_scheduler import ReduceLROnPlateau\n"
   ]
  },
  {
   "cell_type": "code",
   "execution_count": 11,
   "metadata": {},
   "outputs": [
    {
     "name": "stderr",
     "output_type": "stream",
     "text": [
      "Epoch 1/30: 100%|██████████| 104/104 [00:11<00:00,  8.69it/s]\n",
      "Epoch 1/30: 100%|██████████| 35/35 [00:03<00:00,  9.92it/s]\n"
     ]
    },
    {
     "name": "stdout",
     "output_type": "stream",
     "text": [
      "Epoch 1/30, Loss: 1.9399, Acc: 30.73%, Val Loss: 1.7246, Val Acc: 54.59%\n",
      "Precision: 0.5445, Recall: 0.5459, F1 Score: 0.5901\n"
     ]
    },
    {
     "name": "stderr",
     "output_type": "stream",
     "text": [
      "Epoch 2/30: 100%|██████████| 104/104 [00:09<00:00, 11.09it/s]\n",
      "Epoch 2/30: 100%|██████████| 35/35 [00:02<00:00, 12.09it/s]\n"
     ]
    },
    {
     "name": "stdout",
     "output_type": "stream",
     "text": [
      "Epoch 2/30, Loss: 1.5346, Acc: 64.55%, Val Loss: 1.3663, Val Acc: 71.89%\n",
      "Precision: 0.7133, Recall: 0.7189, F1 Score: 0.7068\n"
     ]
    },
    {
     "name": "stderr",
     "output_type": "stream",
     "text": [
      "Epoch 3/30: 100%|██████████| 104/104 [00:09<00:00, 10.90it/s]\n",
      "Epoch 3/30: 100%|██████████| 35/35 [00:03<00:00,  9.94it/s]\n"
     ]
    },
    {
     "name": "stdout",
     "output_type": "stream",
     "text": [
      "Epoch 3/30, Loss: 1.2170, Acc: 73.02%, Val Loss: 1.1109, Val Acc: 74.41%\n",
      "Precision: 0.7414, Recall: 0.7441, F1 Score: 0.7370\n"
     ]
    },
    {
     "name": "stderr",
     "output_type": "stream",
     "text": [
      "Epoch 4/30: 100%|██████████| 104/104 [00:09<00:00, 10.92it/s]\n",
      "Epoch 4/30: 100%|██████████| 35/35 [00:02<00:00, 11.91it/s]\n"
     ]
    },
    {
     "name": "stdout",
     "output_type": "stream",
     "text": [
      "Epoch 4/30, Loss: 0.9851, Acc: 77.13%, Val Loss: 0.9210, Val Acc: 76.76%\n",
      "Precision: 0.7654, Recall: 0.7676, F1 Score: 0.7616\n"
     ]
    },
    {
     "name": "stderr",
     "output_type": "stream",
     "text": [
      "Epoch 5/30: 100%|██████████| 104/104 [00:09<00:00, 10.66it/s]\n",
      "Epoch 5/30: 100%|██████████| 35/35 [00:03<00:00, 10.19it/s]\n"
     ]
    },
    {
     "name": "stdout",
     "output_type": "stream",
     "text": [
      "Epoch 5/30, Loss: 0.8226, Acc: 78.89%, Val Loss: 0.7728, Val Acc: 79.28%\n",
      "Precision: 0.7893, Recall: 0.7928, F1 Score: 0.7888\n"
     ]
    },
    {
     "name": "stderr",
     "output_type": "stream",
     "text": [
      "Epoch 6/30: 100%|██████████| 104/104 [00:08<00:00, 11.81it/s]\n",
      "Epoch 6/30: 100%|██████████| 35/35 [00:02<00:00, 12.22it/s]\n"
     ]
    },
    {
     "name": "stdout",
     "output_type": "stream",
     "text": [
      "Epoch 6/30, Loss: 0.7087, Acc: 80.82%, Val Loss: 0.6853, Val Acc: 80.90%\n",
      "Precision: 0.8054, Recall: 0.8090, F1 Score: 0.8057\n"
     ]
    },
    {
     "name": "stderr",
     "output_type": "stream",
     "text": [
      "Epoch 7/30: 100%|██████████| 104/104 [00:08<00:00, 11.76it/s]\n",
      "Epoch 7/30: 100%|██████████| 35/35 [00:02<00:00, 12.26it/s]\n"
     ]
    },
    {
     "name": "stdout",
     "output_type": "stream",
     "text": [
      "Epoch 7/30, Loss: 0.6068, Acc: 83.00%, Val Loss: 0.6069, Val Acc: 82.52%\n",
      "Precision: 0.8254, Recall: 0.8252, F1 Score: 0.8249\n"
     ]
    },
    {
     "name": "stderr",
     "output_type": "stream",
     "text": [
      "Epoch 8/30: 100%|██████████| 104/104 [00:08<00:00, 11.81it/s]\n",
      "Epoch 8/30: 100%|██████████| 35/35 [00:02<00:00, 12.29it/s]\n"
     ]
    },
    {
     "name": "stdout",
     "output_type": "stream",
     "text": [
      "Epoch 8/30, Loss: 0.5479, Acc: 83.18%, Val Loss: 0.5617, Val Acc: 83.60%\n",
      "Precision: 0.8350, Recall: 0.8360, F1 Score: 0.8351\n"
     ]
    },
    {
     "name": "stderr",
     "output_type": "stream",
     "text": [
      "Epoch 9/30: 100%|██████████| 104/104 [00:08<00:00, 11.80it/s]\n",
      "Epoch 9/30: 100%|██████████| 35/35 [00:02<00:00, 11.91it/s]\n"
     ]
    },
    {
     "name": "stdout",
     "output_type": "stream",
     "text": [
      "Epoch 9/30, Loss: 0.4923, Acc: 86.87%, Val Loss: 0.5201, Val Acc: 85.41%\n",
      "Precision: 0.8543, Recall: 0.8541, F1 Score: 0.8538\n"
     ]
    },
    {
     "name": "stderr",
     "output_type": "stream",
     "text": [
      "Epoch 10/30: 100%|██████████| 104/104 [00:08<00:00, 11.84it/s]\n",
      "Epoch 10/30: 100%|██████████| 35/35 [00:02<00:00, 12.25it/s]\n"
     ]
    },
    {
     "name": "stdout",
     "output_type": "stream",
     "text": [
      "Epoch 10/30, Loss: 0.4495, Acc: 86.21%, Val Loss: 0.4859, Val Acc: 85.05%\n",
      "Precision: 0.8507, Recall: 0.8505, F1 Score: 0.8505\n"
     ]
    },
    {
     "name": "stderr",
     "output_type": "stream",
     "text": [
      "Epoch 11/30: 100%|██████████| 104/104 [00:09<00:00, 10.74it/s]\n",
      "Epoch 11/30: 100%|██████████| 35/35 [00:02<00:00, 12.43it/s]\n"
     ]
    },
    {
     "name": "stdout",
     "output_type": "stream",
     "text": [
      "Epoch 11/30, Loss: 0.4179, Acc: 87.30%, Val Loss: 0.4599, Val Acc: 86.13%\n",
      "Precision: 0.8616, Recall: 0.8613, F1 Score: 0.8610\n"
     ]
    },
    {
     "name": "stderr",
     "output_type": "stream",
     "text": [
      "Epoch 12/30: 100%|██████████| 104/104 [00:08<00:00, 11.96it/s]\n",
      "Epoch 12/30: 100%|██████████| 35/35 [00:02<00:00, 12.43it/s]\n"
     ]
    },
    {
     "name": "stdout",
     "output_type": "stream",
     "text": [
      "Epoch 12/30, Loss: 0.3961, Acc: 88.08%, Val Loss: 0.4524, Val Acc: 84.68%\n",
      "Precision: 0.8464, Recall: 0.8468, F1 Score: 0.8461\n"
     ]
    },
    {
     "name": "stderr",
     "output_type": "stream",
     "text": [
      "Epoch 13/30: 100%|██████████| 104/104 [00:08<00:00, 11.91it/s]\n",
      "Epoch 13/30: 100%|██████████| 35/35 [00:02<00:00, 12.43it/s]\n"
     ]
    },
    {
     "name": "stdout",
     "output_type": "stream",
     "text": [
      "Epoch 13/30, Loss: 0.3639, Acc: 88.99%, Val Loss: 0.4307, Val Acc: 86.31%\n",
      "Precision: 0.8660, Recall: 0.8631, F1 Score: 0.8640\n"
     ]
    },
    {
     "name": "stderr",
     "output_type": "stream",
     "text": [
      "Epoch 14/30: 100%|██████████| 104/104 [00:08<00:00, 11.96it/s]\n",
      "Epoch 14/30: 100%|██████████| 35/35 [00:02<00:00, 12.22it/s]\n"
     ]
    },
    {
     "name": "stdout",
     "output_type": "stream",
     "text": [
      "Epoch 14/30, Loss: 0.3558, Acc: 89.11%, Val Loss: 0.4145, Val Acc: 86.31%\n",
      "Precision: 0.8632, Recall: 0.8631, F1 Score: 0.8630\n"
     ]
    },
    {
     "name": "stderr",
     "output_type": "stream",
     "text": [
      "Epoch 15/30: 100%|██████████| 104/104 [00:08<00:00, 11.86it/s]\n",
      "Epoch 15/30: 100%|██████████| 35/35 [00:03<00:00, 10.92it/s]\n"
     ]
    },
    {
     "name": "stdout",
     "output_type": "stream",
     "text": [
      "Epoch 15/30, Loss: 0.3312, Acc: 89.59%, Val Loss: 0.4046, Val Acc: 86.85%\n",
      "Precision: 0.8691, Recall: 0.8685, F1 Score: 0.8686\n"
     ]
    },
    {
     "name": "stderr",
     "output_type": "stream",
     "text": [
      "Epoch 16/30: 100%|██████████| 104/104 [00:10<00:00, 10.33it/s]\n",
      "Epoch 16/30: 100%|██████████| 35/35 [00:03<00:00, 11.45it/s]\n"
     ]
    },
    {
     "name": "stdout",
     "output_type": "stream",
     "text": [
      "Epoch 16/30, Loss: 0.3100, Acc: 90.87%, Val Loss: 0.3991, Val Acc: 87.39%\n",
      "Precision: 0.8770, Recall: 0.8739, F1 Score: 0.8745\n"
     ]
    },
    {
     "name": "stderr",
     "output_type": "stream",
     "text": [
      "Epoch 17/30: 100%|██████████| 104/104 [00:08<00:00, 11.97it/s]\n",
      "Epoch 17/30: 100%|██████████| 35/35 [00:02<00:00, 12.39it/s]\n"
     ]
    },
    {
     "name": "stdout",
     "output_type": "stream",
     "text": [
      "Epoch 17/30, Loss: 0.2891, Acc: 92.08%, Val Loss: 0.3752, Val Acc: 86.85%\n",
      "Precision: 0.8681, Recall: 0.8685, F1 Score: 0.8678\n"
     ]
    },
    {
     "name": "stderr",
     "output_type": "stream",
     "text": [
      "Epoch 18/30: 100%|██████████| 104/104 [00:08<00:00, 11.93it/s]\n",
      "Epoch 18/30: 100%|██████████| 35/35 [00:02<00:00, 12.41it/s]\n"
     ]
    },
    {
     "name": "stdout",
     "output_type": "stream",
     "text": [
      "Epoch 18/30, Loss: 0.2812, Acc: 92.14%, Val Loss: 0.3764, Val Acc: 87.03%\n",
      "Precision: 0.8708, Recall: 0.8703, F1 Score: 0.8704\n"
     ]
    },
    {
     "name": "stderr",
     "output_type": "stream",
     "text": [
      "Epoch 19/30: 100%|██████████| 104/104 [00:08<00:00, 12.10it/s]\n",
      "Epoch 19/30: 100%|██████████| 35/35 [00:02<00:00, 12.57it/s]\n"
     ]
    },
    {
     "name": "stdout",
     "output_type": "stream",
     "text": [
      "Epoch 19/30, Loss: 0.2618, Acc: 92.74%, Val Loss: 0.3795, Val Acc: 87.39%\n",
      "Precision: 0.8741, Recall: 0.8739, F1 Score: 0.8737\n"
     ]
    },
    {
     "name": "stderr",
     "output_type": "stream",
     "text": [
      "Epoch 20/30: 100%|██████████| 104/104 [00:09<00:00, 11.20it/s]\n",
      "Epoch 20/30: 100%|██████████| 35/35 [00:03<00:00, 10.46it/s]\n"
     ]
    },
    {
     "name": "stdout",
     "output_type": "stream",
     "text": [
      "Epoch 20/30, Loss: 0.2580, Acc: 91.95%, Val Loss: 0.3675, Val Acc: 86.85%\n",
      "Precision: 0.8694, Recall: 0.8685, F1 Score: 0.8686\n"
     ]
    },
    {
     "name": "stderr",
     "output_type": "stream",
     "text": [
      "Epoch 21/30: 100%|██████████| 104/104 [00:09<00:00, 10.98it/s]\n",
      "Epoch 21/30: 100%|██████████| 35/35 [00:02<00:00, 12.47it/s]\n"
     ]
    },
    {
     "name": "stdout",
     "output_type": "stream",
     "text": [
      "Epoch 21/30, Loss: 0.2504, Acc: 92.98%, Val Loss: 0.3576, Val Acc: 87.93%\n",
      "Precision: 0.8797, Recall: 0.8793, F1 Score: 0.8794\n"
     ]
    },
    {
     "name": "stderr",
     "output_type": "stream",
     "text": [
      "Epoch 22/30: 100%|██████████| 104/104 [00:08<00:00, 12.10it/s]\n",
      "Epoch 22/30: 100%|██████████| 35/35 [00:02<00:00, 12.32it/s]\n"
     ]
    },
    {
     "name": "stdout",
     "output_type": "stream",
     "text": [
      "Epoch 22/30, Loss: 0.2387, Acc: 92.92%, Val Loss: 0.3610, Val Acc: 88.29%\n",
      "Precision: 0.8838, Recall: 0.8829, F1 Score: 0.8832\n"
     ]
    },
    {
     "name": "stderr",
     "output_type": "stream",
     "text": [
      "Epoch 23/30: 100%|██████████| 104/104 [00:08<00:00, 12.03it/s]\n",
      "Epoch 23/30: 100%|██████████| 35/35 [00:02<00:00, 11.97it/s]\n"
     ]
    },
    {
     "name": "stdout",
     "output_type": "stream",
     "text": [
      "Epoch 23/30, Loss: 0.2460, Acc: 92.38%, Val Loss: 0.3509, Val Acc: 88.11%\n",
      "Precision: 0.8817, Recall: 0.8811, F1 Score: 0.8811\n"
     ]
    },
    {
     "name": "stderr",
     "output_type": "stream",
     "text": [
      "Epoch 24/30: 100%|██████████| 104/104 [00:09<00:00, 10.91it/s]\n",
      "Epoch 24/30: 100%|██████████| 35/35 [00:03<00:00, 10.39it/s]\n"
     ]
    },
    {
     "name": "stdout",
     "output_type": "stream",
     "text": [
      "Epoch 24/30, Loss: 0.2264, Acc: 93.22%, Val Loss: 0.3560, Val Acc: 88.11%\n",
      "Precision: 0.8823, Recall: 0.8811, F1 Score: 0.8813\n"
     ]
    },
    {
     "name": "stderr",
     "output_type": "stream",
     "text": [
      "Epoch 25/30: 100%|██████████| 104/104 [00:09<00:00, 11.05it/s]\n",
      "Epoch 25/30: 100%|██████████| 35/35 [00:02<00:00, 12.38it/s]\n"
     ]
    },
    {
     "name": "stdout",
     "output_type": "stream",
     "text": [
      "Epoch 25/30, Loss: 0.2121, Acc: 94.01%, Val Loss: 0.3423, Val Acc: 87.39%\n",
      "Precision: 0.8745, Recall: 0.8739, F1 Score: 0.8739\n"
     ]
    },
    {
     "name": "stderr",
     "output_type": "stream",
     "text": [
      "Epoch 26/30: 100%|██████████| 104/104 [00:08<00:00, 11.95it/s]\n",
      "Epoch 26/30: 100%|██████████| 35/35 [00:02<00:00, 12.45it/s]\n"
     ]
    },
    {
     "name": "stdout",
     "output_type": "stream",
     "text": [
      "Epoch 26/30, Loss: 0.2131, Acc: 93.65%, Val Loss: 0.3419, Val Acc: 87.39%\n",
      "Precision: 0.8750, Recall: 0.8739, F1 Score: 0.8740\n"
     ]
    },
    {
     "name": "stderr",
     "output_type": "stream",
     "text": [
      "Epoch 27/30: 100%|██████████| 104/104 [00:08<00:00, 11.92it/s]\n",
      "Epoch 27/30: 100%|██████████| 35/35 [00:03<00:00, 10.88it/s]\n"
     ]
    },
    {
     "name": "stdout",
     "output_type": "stream",
     "text": [
      "Epoch 27/30, Loss: 0.1991, Acc: 95.28%, Val Loss: 0.3482, Val Acc: 87.75%\n",
      "Precision: 0.8788, Recall: 0.8775, F1 Score: 0.8778\n"
     ]
    },
    {
     "name": "stderr",
     "output_type": "stream",
     "text": [
      "Epoch 28/30: 100%|██████████| 104/104 [00:09<00:00, 10.51it/s]\n",
      "Epoch 28/30: 100%|██████████| 35/35 [00:02<00:00, 12.43it/s]\n"
     ]
    },
    {
     "name": "stdout",
     "output_type": "stream",
     "text": [
      "Epoch 28/30, Loss: 0.2005, Acc: 94.62%, Val Loss: 0.3427, Val Acc: 87.93%\n",
      "Precision: 0.8810, Recall: 0.8793, F1 Score: 0.8799\n"
     ]
    },
    {
     "name": "stderr",
     "output_type": "stream",
     "text": [
      "Epoch 29/30: 100%|██████████| 104/104 [00:08<00:00, 11.91it/s]\n",
      "Epoch 29/30: 100%|██████████| 35/35 [00:02<00:00, 12.44it/s]\n"
     ]
    },
    {
     "name": "stdout",
     "output_type": "stream",
     "text": [
      "Epoch 29/30, Loss: 0.1898, Acc: 94.92%, Val Loss: 0.3465, Val Acc: 88.83%\n",
      "Precision: 0.8887, Recall: 0.8883, F1 Score: 0.8881\n"
     ]
    },
    {
     "name": "stderr",
     "output_type": "stream",
     "text": [
      "Epoch 30/30: 100%|██████████| 104/104 [00:09<00:00, 10.86it/s]\n",
      "Epoch 30/30: 100%|██████████| 35/35 [00:03<00:00, 10.09it/s]"
     ]
    },
    {
     "name": "stdout",
     "output_type": "stream",
     "text": [
      "Epoch 30/30, Loss: 0.1862, Acc: 94.62%, Val Loss: 0.3331, Val Acc: 87.75%\n",
      "Precision: 0.8789, Recall: 0.8775, F1 Score: 0.8779\n"
     ]
    },
    {
     "name": "stderr",
     "output_type": "stream",
     "text": [
      "\n"
     ]
    }
   ],
   "source": [
    "criterion = nn.CrossEntropyLoss()\n",
    "optimizer =Lion(model.parameters(), lr=learning_rate)\n",
    "#optimizer = Lion(model.parameters(), lr=learning_rate)\n",
    "# Training loop\n",
    "#step=0\n",
    "scheduler = ReduceLROnPlateau(optimizer, 'min',factor=0.01,patience=3)\n",
    "\n",
    "for epoch in range(num_epochs):\n",
    "    # Training\n",
    "    model.train()  # Set model to training mode\n",
    "    train_loss = 0.0\n",
    "    correct_train = 0\n",
    "    \n",
    "    \n",
    "    \n",
    "        \n",
    "\n",
    "    #Create and save new chcekpoints\n",
    "    #if epoch % 3 == 0:\n",
    "    #    checkpoint={'state_dict':model.state_dict(),'optimizer':optimizer.state_dict()}\n",
    "    #    save_checkpoint(checkpoint)\n",
    "\n",
    "    for inputs, labels in tqdm(train_loader, desc=f'Epoch {epoch + 1}/{num_epochs}'):\n",
    "        \n",
    "        inputs= inputs.to(device)\n",
    "        labels = labels.to(device)\n",
    "        \n",
    "        optimizer.zero_grad()  # Zero the parameter gradients\n",
    "        \n",
    "\n",
    "        # Forward pass\n",
    "        outputs = model(inputs)\n",
    "        outputs = outputs.logits\n",
    "        loss = criterion(outputs, labels)\n",
    "        \n",
    "        # Backward pass and optimize\n",
    "        loss.backward()\n",
    "        optimizer.step()\n",
    "        \n",
    "        train_loss += loss.item() * inputs.size(0)\n",
    "        \n",
    "        _, preds = torch.max(outputs, 1)\n",
    "        correct_train += (preds == labels).sum().item()\n",
    "        training_acc=float(correct_train)/float(inputs.shape[0])\n",
    "\n",
    "        #writer.add_scalar('Training Loss', train_loss, global_step=step)\n",
    "        #writer.add_scalar('Training Accuracy', training_acc, global_step=step)\n",
    "        #step+=1\n",
    "        \n",
    "    train_loss = train_loss / len(train_loader.dataset)\n",
    "    train_accuracy = correct_train / len(train_loader.dataset) * 100\n",
    "    \n",
    "    \n",
    "    # Validation\n",
    "    model.eval()\n",
    "    val_loss = 0.0\n",
    "    correct_val = 0\n",
    "    all_preds = []\n",
    "    all_labels = []\n",
    "\n",
    "    with torch.no_grad():\n",
    "        for inputs, labels in tqdm(val_loader, desc=f'Epoch {epoch + 1}/{num_epochs}'):\n",
    "            inputs= inputs.to(device)\n",
    "            labels = labels.to(device)\n",
    "            outputs = model(inputs)\n",
    "            outputs = outputs.logits\n",
    "            loss = criterion(outputs, labels)\n",
    "            val_loss += loss.item() * inputs.size(0)\n",
    "\n",
    "            _, preds = torch.max(outputs, 1)\n",
    "            correct_val += (preds == labels).sum().item()\n",
    "\n",
    "        # Collect predictions and labels for later evaluation\n",
    "            all_preds.extend(preds.cpu().numpy())\n",
    "            all_labels.extend(labels.cpu().numpy())\n",
    "\n",
    "    # Calculate metrics\n",
    "    val_loss = val_loss / len(val_loader.dataset)\n",
    "    val_accuracy = correct_val / len(val_loader.dataset) * 100\n",
    "\n",
    "    scheduler.step(val_loss)\n",
    "\n",
    "    \n",
    "\n",
    "    precision = precision_score(all_labels, all_preds, average='weighted', zero_division=1)\n",
    "    recall = recall_score(all_labels, all_preds, average='weighted', zero_division=1)\n",
    "    f1 = f1_score(all_labels, all_preds, average='weighted', zero_division=1)\n",
    "\n",
    "    \n",
    "    \n",
    "\n",
    "    \n",
    "    print(f'Epoch {epoch + 1}/{num_epochs}, Loss: {train_loss:.4f}, Acc: {train_accuracy:.2f}%, Val Loss: {val_loss:.4f}, Val Acc: {val_accuracy:.2f}%')\n",
    "    print(f'Precision: {precision:.4f}, Recall: {recall:.4f}, F1 Score: {f1:.4f}')"
   ]
  },
  {
   "cell_type": "code",
   "execution_count": 12,
   "metadata": {},
   "outputs": [
    {
     "name": "stderr",
     "output_type": "stream",
     "text": [
      "Epoch 1/30: 100%|██████████| 35/35 [00:03<00:00,  9.21it/s]"
     ]
    },
    {
     "name": "stdout",
     "output_type": "stream",
     "text": [
      "test Loss: 0.3595, test Acc: 87.77%\n",
      "Precision: 0.8788, Recall: 0.8777, F1 Score: 0.8777\n"
     ]
    },
    {
     "name": "stderr",
     "output_type": "stream",
     "text": [
      "\n"
     ]
    }
   ],
   "source": [
    "for epoch in range(1):\n",
    "    model.eval()\n",
    "    test_loss = 0.0\n",
    "    correct_test= 0\n",
    "    all_preds = []\n",
    "    all_labels = []\n",
    "\n",
    "    with torch.no_grad():\n",
    "        for inputs, labels in tqdm(test_loader, desc=f'Epoch {epoch + 1}/{num_epochs}'):\n",
    "            inputs= inputs.to(device)\n",
    "            labels = labels.to(device)\n",
    "            outputs = model(inputs)\n",
    "            outputs = outputs.logits\n",
    "            loss = criterion(outputs, labels)\n",
    "            test_loss += loss.item() * inputs.size(0)\n",
    "\n",
    "            _, preds = torch.max(outputs, 1)\n",
    "            correct_test += (preds == labels).sum().item()\n",
    "\n",
    "        # Collect predictions and labels for later evaluation\n",
    "            all_preds.extend(preds.cpu().numpy())\n",
    "            all_labels.extend(labels.cpu().numpy())\n",
    "\n",
    "    # Calculate metrics\n",
    "    test_loss = test_loss / len(test_loader.dataset)\n",
    "    test_accuracy = correct_test / len(test_loader.dataset) * 100\n",
    "\n",
    "    scheduler.step(test_loss)\n",
    "\n",
    "    #writer.add_scalar('Validation Loss', val_loss, epoch)\n",
    "    #writer.add_scalar('Validation Accuracy', val_accuracy, epoch)\n",
    "\n",
    "    precision = precision_score(all_labels, all_preds, average='weighted', zero_division=1)\n",
    "    recall = recall_score(all_labels, all_preds, average='weighted', zero_division=1)\n",
    "    f1 = f1_score(all_labels, all_preds, average='weighted', zero_division=1)\n",
    "\n",
    "    #writer.add_scalar('Precision', precision, epoch)\n",
    "    #writer.add_scalar('Recall', recall, epoch)\n",
    "    #writer.add_scalar('F1 Score', f1, epoch)\n",
    "    \n",
    "    \n",
    "\n",
    "    # Print the epoch statistics\n",
    "    print(f'test Loss: {test_loss:.4f}, test Acc: {test_accuracy:.2f}%')\n",
    "    print(f'Precision: {precision:.4f}, Recall: {recall:.4f}, F1 Score: {f1:.4f}')"
   ]
  },
  {
   "cell_type": "code",
   "execution_count": 13,
   "metadata": {},
   "outputs": [
    {
     "name": "stdout",
     "output_type": "stream",
     "text": [
      "Testing Accuracy: 87.74774774774775%\n",
      "Confusion Matrix:\n",
      " tensor([[ 72.,   0.,   0.,   0.,   1.,   7.,   1.,   0.],\n",
      "        [  0.,  23.,   0.,   0.,   0.,   0.,   0.,   0.],\n",
      "        [  0.,   0.,  25.,   0.,   0.,   0.,   0.,   0.],\n",
      "        [  0.,   0.,   0.,  89.,   3.,   0.,   6.,   2.],\n",
      "        [  0.,   0.,   0.,   9.,  65.,   0.,   6.,   2.],\n",
      "        [  3.,   0.,   0.,   1.,   4., 107.,   0.,   4.],\n",
      "        [  0.,   0.,   0.,   5.,   4.,   2.,  85.,   1.],\n",
      "        [  2.,   0.,   0.,   1.,   3.,   0.,   1.,  21.]])\n"
     ]
    }
   ],
   "source": [
    "confusion_matrix = torch.zeros(num_classes, num_classes)\n",
    "\n",
    "with torch.no_grad():\n",
    "    test_running_corrects = 0.0\n",
    "    test_total = 0.0\n",
    "    model.eval()\n",
    "    for i, (test_inputs, test_labels) in enumerate(val_loader, 0):\n",
    "        test_inputs, test_labels = test_inputs.cuda(), test_labels.cuda()\n",
    "\n",
    "        test_outputs = model(test_inputs)\n",
    "        test_outputs = test_outputs.logits\n",
    "        _, test_preds = torch.max(test_outputs, dim=1)  # Get predicted classes\n",
    "\n",
    "        test_total += test_labels.size(0)\n",
    "        test_running_corrects += (test_preds == test_labels).sum().item()  # Calculate correct predictions\n",
    "\n",
    "        for t, p in zip(test_labels.view(-1), test_preds.view(-1)):\n",
    "            confusion_matrix[t.long(), p.long()] += 1\n",
    "        \n",
    "    print(f'Testing Accuracy: {(100 * test_running_corrects / test_total)}%')\n",
    "print(f'Confusion Matrix:\\n {confusion_matrix}')"
   ]
  },
  {
   "cell_type": "code",
   "execution_count": 14,
   "metadata": {},
   "outputs": [
    {
     "data": {
      "image/png": "[encoded data removed]",
      "text/plain": [
       "<Figure size 700x500 with 2 Axes>"
      ]
     },
     "metadata": {},
     "output_type": "display_data"
    }
   ],
   "source": [
    "import matplotlib.pyplot as plt\n",
    "import seaborn as sns\n",
    "\n",
    "# Convert the confusion matrix to a NumPy array\n",
    "confusion_matrix_np = confusion_matrix.numpy()\n",
    "\n",
    "# Create a heatmap for the confusion matrix\n",
    "plt.figure(figsize=(7, 5))\n",
    "sns.heatmap(confusion_matrix_np, annot=True, fmt='g', cmap='rocket_r', \n",
    "            xticklabels=range(num_classes), yticklabels=range(num_classes))\n",
    "plt.xlabel('Predicted')\n",
    "plt.ylabel('True')\n",
    "plt.title('Confusion Matrix')\n",
    "plt.show()"
   ]
  },
  {
   "cell_type": "code",
   "execution_count": 15,
   "metadata": {},
   "outputs": [],
   "source": [
    "torch.save(model, r'C:\\Users\\Vansh\\Desktop\\projects\\Maverick\\Garbage\\gar_Eformer.pth')"
   ]
  },
  {
   "cell_type": "code",
   "execution_count": 16,
   "metadata": {},
   "outputs": [
    {
     "name": "stdout",
     "output_type": "stream",
     "text": [
      "{'Epoch': [1, 2, 3, 4, 5, 6, 7, 8, 9, 10, 11, 12, 13, 14, 15, 16, 17, 18, 19, 20, 21, 22, 23, 24, 25, 26, 27, 28, 29, 30], 'Train_Loss': [1.9399, 1.5346, 1.217, 0.9851, 0.8226, 0.7087, 0.6068, 0.5479, 0.4923, 0.4495, 0.4179, 0.3961, 0.3639, 0.3558, 0.3312, 0.31, 0.2891, 0.2812, 0.2618, 0.258, 0.2504, 0.2387, 0.246, 0.2264, 0.2121, 0.2131, 0.1991, 0.2005, 0.1898, 0.1862], 'Train_Acc': [30.73, 64.55, 73.02, 77.13, 78.89, 80.82, 83.0, 83.18, 86.87, 86.21, 87.3, 88.08, 88.99, 89.11, 89.59, 90.87, 92.08, 92.14, 92.74, 91.95, 92.98, 92.92, 92.38, 93.22, 94.01, 93.65, 95.28, 94.62, 94.92, 94.62], 'Val_Loss': [1.7246, 1.3663, 1.1109, 0.921, 0.7728, 0.6853, 0.6069, 0.5617, 0.5201, 0.4859, 0.4599, 0.4524, 0.4307, 0.4145, 0.4046, 0.3991, 0.3752, 0.3764, 0.3795, 0.3675, 0.3576, 0.361, 0.3509, 0.356, 0.3423, 0.3419, 0.3482, 0.3427, 0.3465, 0.3331], 'Val_Acc': [54.59, 71.89, 74.41, 76.76, 79.28, 80.9, 82.52, 83.6, 85.41, 85.05, 86.13, 84.68, 86.31, 86.31, 86.85, 87.39, 86.85, 87.03, 87.39, 86.85, 87.93, 88.29, 88.11, 88.11, 87.39, 87.39, 87.75, 87.93, 88.83, 87.75], 'Precision': [0.5445, 0.7133, 0.7414, 0.7654, 0.7893, 0.8054, 0.8254, 0.835, 0.8543, 0.8507, 0.8616, 0.8464, 0.866, 0.8632, 0.8691, 0.877, 0.8681, 0.8708, 0.8741, 0.8694, 0.8797, 0.8838, 0.8817, 0.8823, 0.8745, 0.875, 0.8788, 0.881, 0.8887, 0.8789], 'Recall': [0.5459, 0.7189, 0.7441, 0.7676, 0.7928, 0.809, 0.8252, 0.836, 0.8541, 0.8505, 0.8613, 0.8468, 0.8631, 0.8631, 0.8685, 0.8739, 0.8685, 0.8703, 0.8739, 0.8685, 0.8793, 0.8829, 0.8811, 0.8811, 0.8739, 0.8739, 0.8775, 0.8793, 0.8883, 0.8775], 'F1_Score': [0.5901, 0.7068, 0.737, 0.7616, 0.7888, 0.8057, 0.8249, 0.8351, 0.8538, 0.8505, 0.861, 0.8461, 0.864, 0.863, 0.8686, 0.8745, 0.8678, 0.8704, 0.8737, 0.8686, 0.8794, 0.8832, 0.8811, 0.8813, 0.8739, 0.874, 0.8778, 0.8799, 0.8881, 0.8779]}\n"
     ]
    }
   ],
   "source": [
    "import re\n",
    "\n",
    "def parse_training_output(sample_text):\n",
    "    # Extracting relevant information using regular expressions\n",
    "    train_loss = [float(match.group(1)) for match in re.finditer(r'Epoch \\d+/\\d+, Loss: ([\\d.]+), Acc:', sample_text)]\n",
    "    \n",
    "    # Extracting only the first occurrence of accuracy for each epoch\n",
    "    train_acc = [float(match.group(1)) for match in re.finditer(r'Acc: ([\\d.]+)%', sample_text)][::2]\n",
    "    \n",
    "    val_loss = [float(match.group(1)) for match in re.finditer(r'Val Loss: ([\\d.]+)', sample_text)]\n",
    "    val_acc = [float(match.group(1)) for match in re.finditer(r'Val Acc: ([\\d.]+)%', sample_text)]\n",
    "    precision = [float(match.group(1)) for match in re.finditer(r'Precision: ([\\d.]+)', sample_text)]\n",
    "    recall = [float(match.group(1)) for match in re.finditer(r'Recall: ([\\d.]+)', sample_text)]\n",
    "    f1_score = [float(match.group(1)) for match in re.finditer(r'F1 Score: ([\\d.]+)', sample_text)]\n",
    "\n",
    "    # Creating the dictionary\n",
    "    data = {\n",
    "        'Epoch': [i for i in range(1,31)],\n",
    "        'Train_Loss': train_loss,\n",
    "        'Train_Acc': train_acc,\n",
    "        'Val_Loss': val_loss,\n",
    "        'Val_Acc': val_acc,\n",
    "        'Precision': precision,\n",
    "        'Recall': recall,\n",
    "        'F1_Score': f1_score\n",
    "    }\n",
    "\n",
    "    return data\n",
    "\n",
    "# Sample text\n",
    "sample_text = \"\"\"\n",
    "\n",
    "Epoch 1/30: 100%|██████████| 104/104 [00:11<00:00,  8.69it/s]\n",
    "Epoch 1/30: 100%|██████████| 35/35 [00:03<00:00,  9.92it/s]\n",
    "Epoch 1/30, Loss: 1.9399, Acc: 30.73%, Val Loss: 1.7246, Val Acc: 54.59%\n",
    "Precision: 0.5445, Recall: 0.5459, F1 Score: 0.5901\n",
    "Epoch 2/30: 100%|██████████| 104/104 [00:09<00:00, 11.09it/s]\n",
    "Epoch 2/30: 100%|██████████| 35/35 [00:02<00:00, 12.09it/s]\n",
    "Epoch 2/30, Loss: 1.5346, Acc: 64.55%, Val Loss: 1.3663, Val Acc: 71.89%\n",
    "Precision: 0.7133, Recall: 0.7189, F1 Score: 0.7068\n",
    "Epoch 3/30: 100%|██████████| 104/104 [00:09<00:00, 10.90it/s]\n",
    "Epoch 3/30: 100%|██████████| 35/35 [00:03<00:00,  9.94it/s]\n",
    "Epoch 3/30, Loss: 1.2170, Acc: 73.02%, Val Loss: 1.1109, Val Acc: 74.41%\n",
    "Precision: 0.7414, Recall: 0.7441, F1 Score: 0.7370\n",
    "Epoch 4/30: 100%|██████████| 104/104 [00:09<00:00, 10.92it/s]\n",
    "Epoch 4/30: 100%|██████████| 35/35 [00:02<00:00, 11.91it/s]\n",
    "Epoch 4/30, Loss: 0.9851, Acc: 77.13%, Val Loss: 0.9210, Val Acc: 76.76%\n",
    "Precision: 0.7654, Recall: 0.7676, F1 Score: 0.7616\n",
    "Epoch 5/30: 100%|██████████| 104/104 [00:09<00:00, 10.66it/s]\n",
    "Epoch 5/30: 100%|██████████| 35/35 [00:03<00:00, 10.19it/s]\n",
    "Epoch 5/30, Loss: 0.8226, Acc: 78.89%, Val Loss: 0.7728, Val Acc: 79.28%\n",
    "Precision: 0.7893, Recall: 0.7928, F1 Score: 0.7888\n",
    "Epoch 6/30: 100%|██████████| 104/104 [00:08<00:00, 11.81it/s]\n",
    "Epoch 6/30: 100%|██████████| 35/35 [00:02<00:00, 12.22it/s]\n",
    "Epoch 6/30, Loss: 0.7087, Acc: 80.82%, Val Loss: 0.6853, Val Acc: 80.90%\n",
    "Precision: 0.8054, Recall: 0.8090, F1 Score: 0.8057\n",
    "Epoch 7/30: 100%|██████████| 104/104 [00:08<00:00, 11.76it/s]\n",
    "Epoch 7/30: 100%|██████████| 35/35 [00:02<00:00, 12.26it/s]\n",
    "Epoch 7/30, Loss: 0.6068, Acc: 83.00%, Val Loss: 0.6069, Val Acc: 82.52%\n",
    "Precision: 0.8254, Recall: 0.8252, F1 Score: 0.8249\n",
    "Epoch 8/30: 100%|██████████| 104/104 [00:08<00:00, 11.81it/s]\n",
    "Epoch 8/30: 100%|██████████| 35/35 [00:02<00:00, 12.29it/s]\n",
    "Epoch 8/30, Loss: 0.5479, Acc: 83.18%, Val Loss: 0.5617, Val Acc: 83.60%\n",
    "Precision: 0.8350, Recall: 0.8360, F1 Score: 0.8351\n",
    "Epoch 9/30: 100%|██████████| 104/104 [00:08<00:00, 11.80it/s]\n",
    "Epoch 9/30: 100%|██████████| 35/35 [00:02<00:00, 11.91it/s]\n",
    "Epoch 9/30, Loss: 0.4923, Acc: 86.87%, Val Loss: 0.5201, Val Acc: 85.41%\n",
    "Precision: 0.8543, Recall: 0.8541, F1 Score: 0.8538\n",
    "Epoch 10/30: 100%|██████████| 104/104 [00:08<00:00, 11.84it/s]\n",
    "Epoch 10/30: 100%|██████████| 35/35 [00:02<00:00, 12.25it/s]\n",
    "Epoch 10/30, Loss: 0.4495, Acc: 86.21%, Val Loss: 0.4859, Val Acc: 85.05%\n",
    "Precision: 0.8507, Recall: 0.8505, F1 Score: 0.8505\n",
    "Epoch 11/30: 100%|██████████| 104/104 [00:09<00:00, 10.74it/s]\n",
    "Epoch 11/30: 100%|██████████| 35/35 [00:02<00:00, 12.43it/s]\n",
    "Epoch 11/30, Loss: 0.4179, Acc: 87.30%, Val Loss: 0.4599, Val Acc: 86.13%\n",
    "Precision: 0.8616, Recall: 0.8613, F1 Score: 0.8610\n",
    "Epoch 12/30: 100%|██████████| 104/104 [00:08<00:00, 11.96it/s]\n",
    "Epoch 12/30: 100%|██████████| 35/35 [00:02<00:00, 12.43it/s]\n",
    "Epoch 12/30, Loss: 0.3961, Acc: 88.08%, Val Loss: 0.4524, Val Acc: 84.68%\n",
    "Precision: 0.8464, Recall: 0.8468, F1 Score: 0.8461\n",
    "Epoch 13/30: 100%|██████████| 104/104 [00:08<00:00, 11.91it/s]\n",
    "Epoch 13/30: 100%|██████████| 35/35 [00:02<00:00, 12.43it/s]\n",
    "Epoch 13/30, Loss: 0.3639, Acc: 88.99%, Val Loss: 0.4307, Val Acc: 86.31%\n",
    "Precision: 0.8660, Recall: 0.8631, F1 Score: 0.8640\n",
    "Epoch 14/30: 100%|██████████| 104/104 [00:08<00:00, 11.96it/s]\n",
    "Epoch 14/30: 100%|██████████| 35/35 [00:02<00:00, 12.22it/s]\n",
    "Epoch 14/30, Loss: 0.3558, Acc: 89.11%, Val Loss: 0.4145, Val Acc: 86.31%\n",
    "Precision: 0.8632, Recall: 0.8631, F1 Score: 0.8630\n",
    "Epoch 15/30: 100%|██████████| 104/104 [00:08<00:00, 11.86it/s]\n",
    "Epoch 15/30: 100%|██████████| 35/35 [00:03<00:00, 10.92it/s]\n",
    "Epoch 15/30, Loss: 0.3312, Acc: 89.59%, Val Loss: 0.4046, Val Acc: 86.85%\n",
    "Precision: 0.8691, Recall: 0.8685, F1 Score: 0.8686\n",
    "Epoch 16/30: 100%|██████████| 104/104 [00:10<00:00, 10.33it/s]\n",
    "Epoch 16/30: 100%|██████████| 35/35 [00:03<00:00, 11.45it/s]\n",
    "Epoch 16/30, Loss: 0.3100, Acc: 90.87%, Val Loss: 0.3991, Val Acc: 87.39%\n",
    "Precision: 0.8770, Recall: 0.8739, F1 Score: 0.8745\n",
    "Epoch 17/30: 100%|██████████| 104/104 [00:08<00:00, 11.97it/s]\n",
    "Epoch 17/30: 100%|██████████| 35/35 [00:02<00:00, 12.39it/s]\n",
    "Epoch 17/30, Loss: 0.2891, Acc: 92.08%, Val Loss: 0.3752, Val Acc: 86.85%\n",
    "Precision: 0.8681, Recall: 0.8685, F1 Score: 0.8678\n",
    "Epoch 18/30: 100%|██████████| 104/104 [00:08<00:00, 11.93it/s]\n",
    "Epoch 18/30: 100%|██████████| 35/35 [00:02<00:00, 12.41it/s]\n",
    "Epoch 18/30, Loss: 0.2812, Acc: 92.14%, Val Loss: 0.3764, Val Acc: 87.03%\n",
    "Precision: 0.8708, Recall: 0.8703, F1 Score: 0.8704\n",
    "Epoch 19/30: 100%|██████████| 104/104 [00:08<00:00, 12.10it/s]\n",
    "Epoch 19/30: 100%|██████████| 35/35 [00:02<00:00, 12.57it/s]\n",
    "Epoch 19/30, Loss: 0.2618, Acc: 92.74%, Val Loss: 0.3795, Val Acc: 87.39%\n",
    "Precision: 0.8741, Recall: 0.8739, F1 Score: 0.8737\n",
    "Epoch 20/30: 100%|██████████| 104/104 [00:09<00:00, 11.20it/s]\n",
    "Epoch 20/30: 100%|██████████| 35/35 [00:03<00:00, 10.46it/s]\n",
    "Epoch 20/30, Loss: 0.2580, Acc: 91.95%, Val Loss: 0.3675, Val Acc: 86.85%\n",
    "Precision: 0.8694, Recall: 0.8685, F1 Score: 0.8686\n",
    "Epoch 21/30: 100%|██████████| 104/104 [00:09<00:00, 10.98it/s]\n",
    "Epoch 21/30: 100%|██████████| 35/35 [00:02<00:00, 12.47it/s]\n",
    "Epoch 21/30, Loss: 0.2504, Acc: 92.98%, Val Loss: 0.3576, Val Acc: 87.93%\n",
    "Precision: 0.8797, Recall: 0.8793, F1 Score: 0.8794\n",
    "Epoch 22/30: 100%|██████████| 104/104 [00:08<00:00, 12.10it/s]\n",
    "Epoch 22/30: 100%|██████████| 35/35 [00:02<00:00, 12.32it/s]\n",
    "Epoch 22/30, Loss: 0.2387, Acc: 92.92%, Val Loss: 0.3610, Val Acc: 88.29%\n",
    "Precision: 0.8838, Recall: 0.8829, F1 Score: 0.8832\n",
    "Epoch 23/30: 100%|██████████| 104/104 [00:08<00:00, 12.03it/s]\n",
    "Epoch 23/30: 100%|██████████| 35/35 [00:02<00:00, 11.97it/s]\n",
    "Epoch 23/30, Loss: 0.2460, Acc: 92.38%, Val Loss: 0.3509, Val Acc: 88.11%\n",
    "Precision: 0.8817, Recall: 0.8811, F1 Score: 0.8811\n",
    "Epoch 24/30: 100%|██████████| 104/104 [00:09<00:00, 10.91it/s]\n",
    "Epoch 24/30: 100%|██████████| 35/35 [00:03<00:00, 10.39it/s]\n",
    "Epoch 24/30, Loss: 0.2264, Acc: 93.22%, Val Loss: 0.3560, Val Acc: 88.11%\n",
    "Precision: 0.8823, Recall: 0.8811, F1 Score: 0.8813\n",
    "Epoch 25/30: 100%|██████████| 104/104 [00:09<00:00, 11.05it/s]\n",
    "Epoch 25/30: 100%|██████████| 35/35 [00:02<00:00, 12.38it/s]\n",
    "Epoch 25/30, Loss: 0.2121, Acc: 94.01%, Val Loss: 0.3423, Val Acc: 87.39%\n",
    "Precision: 0.8745, Recall: 0.8739, F1 Score: 0.8739\n",
    "Epoch 26/30: 100%|██████████| 104/104 [00:08<00:00, 11.95it/s]\n",
    "Epoch 26/30: 100%|██████████| 35/35 [00:02<00:00, 12.45it/s]\n",
    "Epoch 26/30, Loss: 0.2131, Acc: 93.65%, Val Loss: 0.3419, Val Acc: 87.39%\n",
    "Precision: 0.8750, Recall: 0.8739, F1 Score: 0.8740\n",
    "Epoch 27/30: 100%|██████████| 104/104 [00:08<00:00, 11.92it/s]\n",
    "Epoch 27/30: 100%|██████████| 35/35 [00:03<00:00, 10.88it/s]\n",
    "Epoch 27/30, Loss: 0.1991, Acc: 95.28%, Val Loss: 0.3482, Val Acc: 87.75%\n",
    "Precision: 0.8788, Recall: 0.8775, F1 Score: 0.8778\n",
    "Epoch 28/30: 100%|██████████| 104/104 [00:09<00:00, 10.51it/s]\n",
    "Epoch 28/30: 100%|██████████| 35/35 [00:02<00:00, 12.43it/s]\n",
    "Epoch 28/30, Loss: 0.2005, Acc: 94.62%, Val Loss: 0.3427, Val Acc: 87.93%\n",
    "Precision: 0.8810, Recall: 0.8793, F1 Score: 0.8799\n",
    "Epoch 29/30: 100%|██████████| 104/104 [00:08<00:00, 11.91it/s]\n",
    "Epoch 29/30: 100%|██████████| 35/35 [00:02<00:00, 12.44it/s]\n",
    "Epoch 29/30, Loss: 0.1898, Acc: 94.92%, Val Loss: 0.3465, Val Acc: 88.83%\n",
    "Precision: 0.8887, Recall: 0.8883, F1 Score: 0.8881\n",
    "Epoch 30/30: 100%|██████████| 104/104 [00:09<00:00, 10.86it/s]\n",
    "Epoch 30/30: 100%|██████████| 35/35 [00:03<00:00, 10.09it/s]\n",
    "Epoch 30/30, Loss: 0.1862, Acc: 94.62%, Val Loss: 0.3331, Val Acc: 87.75%\n",
    "Precision: 0.8789, Recall: 0.8775, F1 Score: 0.8779\n",
    "\n",
    "\n",
    "\n",
    "\"\"\"\n",
    "\n",
    "# Calling the function\n",
    "parsed_data = parse_training_output(sample_text)\n",
    "# Displaying the result\n",
    "print(parsed_data)"
   ]
  },
  {
   "cell_type": "code",
   "execution_count": 17,
   "metadata": {},
   "outputs": [
    {
     "data": {
      "image/png": "[encoded data removed]",
      "text/plain": [
       "<Figure size 1500x500 with 3 Axes>"
      ]
     },
     "metadata": {},
     "output_type": "display_data"
    }
   ],
   "source": [
    "import matplotlib.pyplot as plt\n",
    "import seaborn as sns\n",
    "import pandas as pd\n",
    "\n",
    "##################################################################################################\n",
    "\n",
    "\n",
    "##################################################################################################\n",
    "\n",
    "# Convert data to a Pandas DataFrame\n",
    "df = pd.DataFrame(parsed_data)\n",
    "\n",
    "# Set the style of Seaborn\n",
    "sns.set(style=\"whitegrid\")\n",
    "\n",
    "# Create a horizontal line subplot\n",
    "fig, axes = plt.subplots(1, 3, figsize=(15, 5))\n",
    "\n",
    "# Plotting the training and validation loss\n",
    "sns.lineplot(x='Epoch', y='Train_Loss', data=df, label='Train Loss', ax=axes[0])\n",
    "sns.lineplot(x='Epoch', y='Val_Loss', data=df, label='Validation Loss', ax=axes[0])\n",
    "axes[0].set_title('Training and Validation Loss')\n",
    "axes[0].set_xlabel('Epoch')\n",
    "axes[0].set_ylabel('Loss')\n",
    "\n",
    "# Plotting the training and validation accuracy\n",
    "sns.lineplot(x='Epoch', y='Train_Acc', data=df, label='Train Accuracy', ax=axes[1])\n",
    "sns.lineplot(x='Epoch', y='Val_Acc', data=df, label='Validation Accuracy', ax=axes[1])\n",
    "axes[1].set_title('Training and Validation Accuracy')\n",
    "axes[1].set_xlabel('Epoch')\n",
    "axes[1].set_ylabel('Accuracy (%)')\n",
    "\n",
    "# Plotting the precision, recall, and F1 score\n",
    "sns.lineplot(x='Epoch', y='Precision', data=df, label='Precision', ax=axes[2])\n",
    "sns.lineplot(x='Epoch', y='Recall', data=df, label='Recall', ax=axes[2])\n",
    "sns.lineplot(x='Epoch', y='F1_Score', data=df, label='F1 Score', ax=axes[2])\n",
    "axes[2].set_title('Precision, Recall, and F1 Score')\n",
    "axes[2].set_xlabel('Epoch')\n",
    "axes[2].set_ylabel('Score')\n",
    "\n",
    "plt.tight_layout()\n",
    "#plt.savefig(r'D:\\ADNI\\model_inferences\\EFFICIENTNET_B0_lion_64_lr.png',dpi=300)\n",
    "plt.show()"
   ]
  },
  {
   "cell_type": "code",
   "execution_count": null,
   "metadata": {},
   "outputs": [],
   "source": []
  }
 ],
 "metadata": {
  "kernelspec": {
   "display_name": "TorchEnv",
   "language": "python",
   "name": "python3"
  },
  "language_info": {
   "codemirror_mode": {
    "name": "ipython",
    "version": 3
   },
   "file_extension": ".py",
   "mimetype": "text/x-python",
   "name": "python",
   "nbconvert_exporter": "python",
   "pygments_lexer": "ipython3",
   "version": "3.9.13"
  }
 },
 "nbformat": 4,
 "nbformat_minor": 2
}
