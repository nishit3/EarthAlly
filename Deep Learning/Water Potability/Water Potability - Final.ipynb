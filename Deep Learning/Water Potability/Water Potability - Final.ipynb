{
 "cells": [
  {
   "cell_type": "code",
   "execution_count": 1,
   "id": "51e6e393",
   "metadata": {},
   "outputs": [],
   "source": [
    "# !pip install pandas\n",
    "import numpy as np\n",
    "import pandas as pd\n",
    "import torch\n",
    "from torch.utils.data import DataLoader, TensorDataset, random_split\n",
    "from sklearn.preprocessing import StandardScaler\n",
    "import torch.nn as nn\n",
    "import torch.optim as optim"
   ]
  },
  {
   "cell_type": "code",
   "execution_count": 2,
   "id": "253d030a",
   "metadata": {},
   "outputs": [
    {
     "name": "stdout",
     "output_type": "stream",
     "text": [
      "         ph       Solids  Turbidity  Potability\n",
      "0  7.080795  20791.31898   2.963135           1\n",
      "1  3.716080  18630.05786   4.500656           0\n",
      "2  8.099124  19909.54173   3.055934           1\n",
      "3  8.316766  22018.41744   4.628771           1\n",
      "4  9.092223  17978.98634   4.075075           0\n"
     ]
    }
   ],
   "source": [
    "dt1=pd.read_excel('Book1.xlsx')\n",
    "print(dt1.head())"
   ]
  },
  {
   "cell_type": "code",
   "execution_count": 3,
   "id": "23605f4e",
   "metadata": {},
   "outputs": [
    {
     "data": {
      "text/plain": [
       "Index(['ph', 'Solids', 'Turbidity', 'Potability'], dtype='object')"
      ]
     },
     "execution_count": 3,
     "metadata": {},
     "output_type": "execute_result"
    }
   ],
   "source": [
    "dt1.columns"
   ]
  },
  {
   "cell_type": "code",
   "execution_count": 4,
   "id": "aa524c88",
   "metadata": {},
   "outputs": [
    {
     "data": {
      "text/html": [
       "<div>\n",
       "<style scoped>\n",
       "    .dataframe tbody tr th:only-of-type {\n",
       "        vertical-align: middle;\n",
       "    }\n",
       "\n",
       "    .dataframe tbody tr th {\n",
       "        vertical-align: top;\n",
       "    }\n",
       "\n",
       "    .dataframe thead th {\n",
       "        text-align: right;\n",
       "    }\n",
       "</style>\n",
       "<table border=\"1\" class=\"dataframe\">\n",
       "  <thead>\n",
       "    <tr style=\"text-align: right;\">\n",
       "      <th></th>\n",
       "      <th>ph</th>\n",
       "      <th>Solids</th>\n",
       "      <th>Turbidity</th>\n",
       "      <th>Potability</th>\n",
       "    </tr>\n",
       "  </thead>\n",
       "  <tbody>\n",
       "    <tr>\n",
       "      <th>0</th>\n",
       "      <td>7.080795</td>\n",
       "      <td>20791.31898</td>\n",
       "      <td>2.963135</td>\n",
       "      <td>1</td>\n",
       "    </tr>\n",
       "    <tr>\n",
       "      <th>1</th>\n",
       "      <td>3.716080</td>\n",
       "      <td>18630.05786</td>\n",
       "      <td>4.500656</td>\n",
       "      <td>0</td>\n",
       "    </tr>\n",
       "    <tr>\n",
       "      <th>2</th>\n",
       "      <td>8.099124</td>\n",
       "      <td>19909.54173</td>\n",
       "      <td>3.055934</td>\n",
       "      <td>1</td>\n",
       "    </tr>\n",
       "    <tr>\n",
       "      <th>3</th>\n",
       "      <td>8.316766</td>\n",
       "      <td>22018.41744</td>\n",
       "      <td>4.628771</td>\n",
       "      <td>1</td>\n",
       "    </tr>\n",
       "    <tr>\n",
       "      <th>4</th>\n",
       "      <td>9.092223</td>\n",
       "      <td>17978.98634</td>\n",
       "      <td>4.075075</td>\n",
       "      <td>0</td>\n",
       "    </tr>\n",
       "    <tr>\n",
       "      <th>5</th>\n",
       "      <td>5.584087</td>\n",
       "      <td>28748.68774</td>\n",
       "      <td>2.559708</td>\n",
       "      <td>0</td>\n",
       "    </tr>\n",
       "    <tr>\n",
       "      <th>6</th>\n",
       "      <td>10.223862</td>\n",
       "      <td>28749.71654</td>\n",
       "      <td>2.672989</td>\n",
       "      <td>0</td>\n",
       "    </tr>\n",
       "    <tr>\n",
       "      <th>7</th>\n",
       "      <td>8.635849</td>\n",
       "      <td>13672.09176</td>\n",
       "      <td>4.401425</td>\n",
       "      <td>0</td>\n",
       "    </tr>\n",
       "    <tr>\n",
       "      <th>8</th>\n",
       "      <td>7.080795</td>\n",
       "      <td>14285.58385</td>\n",
       "      <td>3.595017</td>\n",
       "      <td>1</td>\n",
       "    </tr>\n",
       "    <tr>\n",
       "      <th>9</th>\n",
       "      <td>11.180284</td>\n",
       "      <td>25484.50849</td>\n",
       "      <td>4.370562</td>\n",
       "      <td>0</td>\n",
       "    </tr>\n",
       "  </tbody>\n",
       "</table>\n",
       "</div>"
      ],
      "text/plain": [
       "          ph       Solids  Turbidity  Potability\n",
       "0   7.080795  20791.31898   2.963135           1\n",
       "1   3.716080  18630.05786   4.500656           0\n",
       "2   8.099124  19909.54173   3.055934           1\n",
       "3   8.316766  22018.41744   4.628771           1\n",
       "4   9.092223  17978.98634   4.075075           0\n",
       "5   5.584087  28748.68774   2.559708           0\n",
       "6  10.223862  28749.71654   2.672989           0\n",
       "7   8.635849  13672.09176   4.401425           0\n",
       "8   7.080795  14285.58385   3.595017           1\n",
       "9  11.180284  25484.50849   4.370562           0"
      ]
     },
     "execution_count": 4,
     "metadata": {},
     "output_type": "execute_result"
    }
   ],
   "source": [
    "dt1=dt1[['ph','Solids','Turbidity','Potability']]\n",
    "dt1.head(10)"
   ]
  },
  {
   "cell_type": "code",
   "execution_count": 5,
   "id": "3e1f355a",
   "metadata": {},
   "outputs": [
    {
     "data": {
      "text/html": [
       "<div>\n",
       "<style scoped>\n",
       "    .dataframe tbody tr th:only-of-type {\n",
       "        vertical-align: middle;\n",
       "    }\n",
       "\n",
       "    .dataframe tbody tr th {\n",
       "        vertical-align: top;\n",
       "    }\n",
       "\n",
       "    .dataframe thead th {\n",
       "        text-align: right;\n",
       "    }\n",
       "</style>\n",
       "<table border=\"1\" class=\"dataframe\">\n",
       "  <thead>\n",
       "    <tr style=\"text-align: right;\">\n",
       "      <th></th>\n",
       "      <th>ph</th>\n",
       "      <th>Solids</th>\n",
       "      <th>Turbidity</th>\n",
       "      <th>Potability</th>\n",
       "    </tr>\n",
       "  </thead>\n",
       "  <tbody>\n",
       "    <tr>\n",
       "      <th>count</th>\n",
       "      <td>3276.000000</td>\n",
       "      <td>3276.000000</td>\n",
       "      <td>3276.000000</td>\n",
       "      <td>3276.000000</td>\n",
       "    </tr>\n",
       "    <tr>\n",
       "      <th>mean</th>\n",
       "      <td>7.080795</td>\n",
       "      <td>22014.092526</td>\n",
       "      <td>3.966786</td>\n",
       "      <td>0.667888</td>\n",
       "    </tr>\n",
       "    <tr>\n",
       "      <th>std</th>\n",
       "      <td>1.469956</td>\n",
       "      <td>8768.570828</td>\n",
       "      <td>0.780382</td>\n",
       "      <td>0.471043</td>\n",
       "    </tr>\n",
       "    <tr>\n",
       "      <th>min</th>\n",
       "      <td>0.000000</td>\n",
       "      <td>320.942611</td>\n",
       "      <td>1.450000</td>\n",
       "      <td>0.000000</td>\n",
       "    </tr>\n",
       "    <tr>\n",
       "      <th>25%</th>\n",
       "      <td>6.277673</td>\n",
       "      <td>15666.690300</td>\n",
       "      <td>3.439711</td>\n",
       "      <td>0.000000</td>\n",
       "    </tr>\n",
       "    <tr>\n",
       "      <th>50%</th>\n",
       "      <td>7.080795</td>\n",
       "      <td>20927.833605</td>\n",
       "      <td>3.955028</td>\n",
       "      <td>1.000000</td>\n",
       "    </tr>\n",
       "    <tr>\n",
       "      <th>75%</th>\n",
       "      <td>7.870050</td>\n",
       "      <td>27332.762125</td>\n",
       "      <td>4.500320</td>\n",
       "      <td>1.000000</td>\n",
       "    </tr>\n",
       "    <tr>\n",
       "      <th>max</th>\n",
       "      <td>14.000000</td>\n",
       "      <td>61227.196010</td>\n",
       "      <td>6.739000</td>\n",
       "      <td>1.000000</td>\n",
       "    </tr>\n",
       "  </tbody>\n",
       "</table>\n",
       "</div>"
      ],
      "text/plain": [
       "                ph        Solids    Turbidity   Potability\n",
       "count  3276.000000   3276.000000  3276.000000  3276.000000\n",
       "mean      7.080795  22014.092526     3.966786     0.667888\n",
       "std       1.469956   8768.570828     0.780382     0.471043\n",
       "min       0.000000    320.942611     1.450000     0.000000\n",
       "25%       6.277673  15666.690300     3.439711     0.000000\n",
       "50%       7.080795  20927.833605     3.955028     1.000000\n",
       "75%       7.870050  27332.762125     4.500320     1.000000\n",
       "max      14.000000  61227.196010     6.739000     1.000000"
      ]
     },
     "execution_count": 5,
     "metadata": {},
     "output_type": "execute_result"
    }
   ],
   "source": [
    "dt1.describe()"
   ]
  },
  {
   "cell_type": "code",
   "execution_count": 6,
   "id": "6caff063",
   "metadata": {},
   "outputs": [
    {
     "data": {
      "text/plain": [
       "ph            0\n",
       "Solids        0\n",
       "Turbidity     0\n",
       "Potability    0\n",
       "dtype: int64"
      ]
     },
     "execution_count": 6,
     "metadata": {},
     "output_type": "execute_result"
    }
   ],
   "source": [
    "dt1.isnull().sum()"
   ]
  },
  {
   "cell_type": "code",
   "execution_count": 8,
   "id": "656a9b08",
   "metadata": {},
   "outputs": [
    {
     "name": "stdout",
     "output_type": "stream",
     "text": [
      "<class 'pandas.core.frame.DataFrame'>\n",
      "RangeIndex: 3276 entries, 0 to 3275\n",
      "Data columns (total 4 columns):\n",
      " #   Column      Non-Null Count  Dtype  \n",
      "---  ------      --------------  -----  \n",
      " 0   ph          3276 non-null   float64\n",
      " 1   Solids      3276 non-null   float64\n",
      " 2   Turbidity   3276 non-null   float64\n",
      " 3   Potability  3276 non-null   int64  \n",
      "dtypes: float64(3), int64(1)\n",
      "memory usage: 102.5 KB\n"
     ]
    }
   ],
   "source": [
    "dt1.info()"
   ]
  },
  {
   "cell_type": "code",
   "execution_count": 9,
   "id": "9d52996a",
   "metadata": {},
   "outputs": [
    {
     "data": {
      "text/plain": [
       "ph            0\n",
       "Solids        0\n",
       "Turbidity     0\n",
       "Potability    0\n",
       "dtype: int64"
      ]
     },
     "execution_count": 9,
     "metadata": {},
     "output_type": "execute_result"
    }
   ],
   "source": [
    "dt1.isnull().sum()"
   ]
  },
  {
   "cell_type": "code",
   "execution_count": 10,
   "id": "465022df",
   "metadata": {},
   "outputs": [
    {
     "data": {
      "text/html": [
       "<div>\n",
       "<style scoped>\n",
       "    .dataframe tbody tr th:only-of-type {\n",
       "        vertical-align: middle;\n",
       "    }\n",
       "\n",
       "    .dataframe tbody tr th {\n",
       "        vertical-align: top;\n",
       "    }\n",
       "\n",
       "    .dataframe thead th {\n",
       "        text-align: right;\n",
       "    }\n",
       "</style>\n",
       "<table border=\"1\" class=\"dataframe\">\n",
       "  <thead>\n",
       "    <tr style=\"text-align: right;\">\n",
       "      <th></th>\n",
       "      <th>ph</th>\n",
       "      <th>Solids</th>\n",
       "      <th>Turbidity</th>\n",
       "      <th>Potability</th>\n",
       "    </tr>\n",
       "  </thead>\n",
       "  <tbody>\n",
       "    <tr>\n",
       "      <th>count</th>\n",
       "      <td>3276.000000</td>\n",
       "      <td>3276.000000</td>\n",
       "      <td>3276.000000</td>\n",
       "      <td>3276.000000</td>\n",
       "    </tr>\n",
       "    <tr>\n",
       "      <th>mean</th>\n",
       "      <td>7.080795</td>\n",
       "      <td>22014.092526</td>\n",
       "      <td>3.966786</td>\n",
       "      <td>0.667888</td>\n",
       "    </tr>\n",
       "    <tr>\n",
       "      <th>std</th>\n",
       "      <td>1.469956</td>\n",
       "      <td>8768.570828</td>\n",
       "      <td>0.780382</td>\n",
       "      <td>0.471043</td>\n",
       "    </tr>\n",
       "    <tr>\n",
       "      <th>min</th>\n",
       "      <td>0.000000</td>\n",
       "      <td>320.942611</td>\n",
       "      <td>1.450000</td>\n",
       "      <td>0.000000</td>\n",
       "    </tr>\n",
       "    <tr>\n",
       "      <th>25%</th>\n",
       "      <td>6.277673</td>\n",
       "      <td>15666.690300</td>\n",
       "      <td>3.439711</td>\n",
       "      <td>0.000000</td>\n",
       "    </tr>\n",
       "    <tr>\n",
       "      <th>50%</th>\n",
       "      <td>7.080795</td>\n",
       "      <td>20927.833605</td>\n",
       "      <td>3.955028</td>\n",
       "      <td>1.000000</td>\n",
       "    </tr>\n",
       "    <tr>\n",
       "      <th>75%</th>\n",
       "      <td>7.870050</td>\n",
       "      <td>27332.762125</td>\n",
       "      <td>4.500320</td>\n",
       "      <td>1.000000</td>\n",
       "    </tr>\n",
       "    <tr>\n",
       "      <th>max</th>\n",
       "      <td>14.000000</td>\n",
       "      <td>61227.196010</td>\n",
       "      <td>6.739000</td>\n",
       "      <td>1.000000</td>\n",
       "    </tr>\n",
       "  </tbody>\n",
       "</table>\n",
       "</div>"
      ],
      "text/plain": [
       "                ph        Solids    Turbidity   Potability\n",
       "count  3276.000000   3276.000000  3276.000000  3276.000000\n",
       "mean      7.080795  22014.092526     3.966786     0.667888\n",
       "std       1.469956   8768.570828     0.780382     0.471043\n",
       "min       0.000000    320.942611     1.450000     0.000000\n",
       "25%       6.277673  15666.690300     3.439711     0.000000\n",
       "50%       7.080795  20927.833605     3.955028     1.000000\n",
       "75%       7.870050  27332.762125     4.500320     1.000000\n",
       "max      14.000000  61227.196010     6.739000     1.000000"
      ]
     },
     "execution_count": 10,
     "metadata": {},
     "output_type": "execute_result"
    }
   ],
   "source": [
    "dt1.describe()"
   ]
  },
  {
   "cell_type": "code",
   "execution_count": 11,
   "id": "3dab2669",
   "metadata": {},
   "outputs": [],
   "source": [
    "X = dt1.drop('Potability', axis=1).values\n",
    "y = dt1['Potability'].values"
   ]
  },
  {
   "cell_type": "code",
   "execution_count": 12,
   "id": "93e52f10",
   "metadata": {},
   "outputs": [
    {
     "data": {
      "text/plain": [
       "array([[7.08079500e+00, 2.07913190e+04, 2.96313538e+00],\n",
       "       [3.71608007e+00, 1.86300579e+04, 4.50065627e+00],\n",
       "       [8.09912419e+00, 1.99095417e+04, 3.05593375e+00],\n",
       "       ...,\n",
       "       [9.41951032e+00, 3.31555782e+04, 3.29887550e+00],\n",
       "       [5.12676292e+00, 1.19838694e+04, 4.70865847e+00],\n",
       "       [7.87467136e+00, 1.74041771e+04, 2.30914906e+00]])"
      ]
     },
     "execution_count": 12,
     "metadata": {},
     "output_type": "execute_result"
    }
   ],
   "source": [
    "X"
   ]
  },
  {
   "cell_type": "code",
   "execution_count": 13,
   "id": "3928c431",
   "metadata": {},
   "outputs": [
    {
     "data": {
      "text/plain": [
       "array([1, 0, 1, ..., 1, 1, 1], dtype=int64)"
      ]
     },
     "execution_count": 13,
     "metadata": {},
     "output_type": "execute_result"
    }
   ],
   "source": [
    "y"
   ]
  },
  {
   "cell_type": "code",
   "execution_count": 14,
   "id": "630106ae",
   "metadata": {},
   "outputs": [
    {
     "data": {
      "text/plain": [
       "{1: 2188, 0: 1088}"
      ]
     },
     "execution_count": 14,
     "metadata": {},
     "output_type": "execute_result"
    }
   ],
   "source": [
    "from collections import Counter\n",
    "\n",
    "d = dict(Counter(y))\n",
    "d"
   ]
  },
  {
   "cell_type": "code",
   "execution_count": 15,
   "id": "0f7f8ab8",
   "metadata": {},
   "outputs": [
    {
     "data": {
      "text/plain": [
       "array([[ 2.86744064e-07, -1.39470871e-01, -1.28629758e+00],\n",
       "       [-2.28933943e+00, -3.85986649e-01,  6.84217891e-01],\n",
       "       [ 6.92867739e-01, -2.40047337e-01, -1.16736546e+00],\n",
       "       ...,\n",
       "       [ 1.59125363e+00,  1.27080989e+00, -8.56006782e-01],\n",
       "       [-1.32951598e+00, -1.14405809e+00,  9.50797384e-01],\n",
       "       [ 5.40150854e-01, -5.25811938e-01, -2.12445866e+00]])"
      ]
     },
     "execution_count": 15,
     "metadata": {},
     "output_type": "execute_result"
    }
   ],
   "source": [
    "scaler = StandardScaler()\n",
    "X = scaler.fit_transform(X)\n",
    "X"
   ]
  },
  {
   "cell_type": "code",
   "execution_count": 16,
   "id": "28becb4b",
   "metadata": {},
   "outputs": [],
   "source": [
    "df = pd.DataFrame(X)"
   ]
  },
  {
   "cell_type": "code",
   "execution_count": 17,
   "id": "17f324cd",
   "metadata": {},
   "outputs": [
    {
     "data": {
      "text/html": [
       "<div>\n",
       "<style scoped>\n",
       "    .dataframe tbody tr th:only-of-type {\n",
       "        vertical-align: middle;\n",
       "    }\n",
       "\n",
       "    .dataframe tbody tr th {\n",
       "        vertical-align: top;\n",
       "    }\n",
       "\n",
       "    .dataframe thead th {\n",
       "        text-align: right;\n",
       "    }\n",
       "</style>\n",
       "<table border=\"1\" class=\"dataframe\">\n",
       "  <thead>\n",
       "    <tr style=\"text-align: right;\">\n",
       "      <th></th>\n",
       "      <th>0</th>\n",
       "      <th>1</th>\n",
       "      <th>2</th>\n",
       "    </tr>\n",
       "  </thead>\n",
       "  <tbody>\n",
       "    <tr>\n",
       "      <th>count</th>\n",
       "      <td>3.276000e+03</td>\n",
       "      <td>3.276000e+03</td>\n",
       "      <td>3.276000e+03</td>\n",
       "    </tr>\n",
       "    <tr>\n",
       "      <th>mean</th>\n",
       "      <td>-4.965503e-16</td>\n",
       "      <td>3.185622e-18</td>\n",
       "      <td>-3.521806e-16</td>\n",
       "    </tr>\n",
       "    <tr>\n",
       "      <th>std</th>\n",
       "      <td>1.000153e+00</td>\n",
       "      <td>1.000153e+00</td>\n",
       "      <td>1.000153e+00</td>\n",
       "    </tr>\n",
       "    <tr>\n",
       "      <th>min</th>\n",
       "      <td>-4.817747e+00</td>\n",
       "      <td>-2.474344e+00</td>\n",
       "      <td>-3.225560e+00</td>\n",
       "    </tr>\n",
       "    <tr>\n",
       "      <th>25%</th>\n",
       "      <td>-5.464412e-01</td>\n",
       "      <td>-7.239916e-01</td>\n",
       "      <td>-6.755095e-01</td>\n",
       "    </tr>\n",
       "    <tr>\n",
       "      <th>50%</th>\n",
       "      <td>2.867441e-07</td>\n",
       "      <td>-1.238999e-01</td>\n",
       "      <td>-1.507005e-02</td>\n",
       "    </tr>\n",
       "    <tr>\n",
       "      <th>75%</th>\n",
       "      <td>5.370063e-01</td>\n",
       "      <td>6.066532e-01</td>\n",
       "      <td>6.837866e-01</td>\n",
       "    </tr>\n",
       "    <tr>\n",
       "      <th>max</th>\n",
       "      <td>4.707802e+00</td>\n",
       "      <td>4.472689e+00</td>\n",
       "      <td>3.552921e+00</td>\n",
       "    </tr>\n",
       "  </tbody>\n",
       "</table>\n",
       "</div>"
      ],
      "text/plain": [
       "                  0             1             2\n",
       "count  3.276000e+03  3.276000e+03  3.276000e+03\n",
       "mean  -4.965503e-16  3.185622e-18 -3.521806e-16\n",
       "std    1.000153e+00  1.000153e+00  1.000153e+00\n",
       "min   -4.817747e+00 -2.474344e+00 -3.225560e+00\n",
       "25%   -5.464412e-01 -7.239916e-01 -6.755095e-01\n",
       "50%    2.867441e-07 -1.238999e-01 -1.507005e-02\n",
       "75%    5.370063e-01  6.066532e-01  6.837866e-01\n",
       "max    4.707802e+00  4.472689e+00  3.552921e+00"
      ]
     },
     "execution_count": 17,
     "metadata": {},
     "output_type": "execute_result"
    }
   ],
   "source": [
    "df.describe()"
   ]
  },
  {
   "cell_type": "code",
   "execution_count": 18,
   "id": "419f9555",
   "metadata": {},
   "outputs": [],
   "source": [
    "X_tensor = torch.tensor(X, dtype=torch.float32)\n",
    "y_tensor = torch.tensor(y, dtype=torch.float32).view(-1, 1)"
   ]
  },
  {
   "cell_type": "code",
   "execution_count": 19,
   "id": "500bf931",
   "metadata": {},
   "outputs": [],
   "source": [
    "dataset = TensorDataset(X_tensor, y_tensor)\n",
    "train_size = int(0.8 * len(dataset))\n",
    "test_size = len(dataset) - train_size\n",
    "train_dataset, test_dataset = random_split(dataset, [train_size, test_size])"
   ]
  },
  {
   "cell_type": "code",
   "execution_count": 20,
   "id": "a1b8556b",
   "metadata": {},
   "outputs": [],
   "source": [
    "for i in range(len(train_dataset)):\n",
    "    inputs, labels = train_dataset[i]\n",
    "    # print(\"Inputs:\", inputs)\n",
    "    # print(\"Labels:\", labels)"
   ]
  },
  {
   "cell_type": "code",
   "execution_count": 21,
   "id": "bca5af82",
   "metadata": {},
   "outputs": [],
   "source": [
    "train_loader = DataLoader(train_dataset, batch_size=32, shuffle=True)\n",
    "\n",
    "test_loader = DataLoader(test_dataset, batch_size=32, shuffle=False)"
   ]
  },
  {
   "cell_type": "code",
   "execution_count": 22,
   "id": "c19ca309",
   "metadata": {},
   "outputs": [
    {
     "name": "stdout",
     "output_type": "stream",
     "text": [
      "5576961\n"
     ]
    }
   ],
   "source": [
    "\n",
    "class WaterPotabilityNN(nn.Module):\n",
    "    def __init__(self):\n",
    "        super(WaterPotabilityNN, self).__init__()\n",
    "        self.fc1 = nn.Linear(3, 128)\n",
    "#         self.dropout1 = nn.Dropout(0.2)\n",
    "        self.fc2 = nn.Linear(128, 256)\n",
    "#         self.dropout2 = nn.Dropout(0.2)\n",
    "        self.fc3 = nn.Linear(256, 512)\n",
    "        self.fc4 = nn.Linear(512, 1024)\n",
    "        self.fca1 = nn.Linear(1024, 2048)\n",
    "        self.fca2 = nn.Linear(2048, 1024)\n",
    "        self.fc5 = nn.Linear(1024, 512)\n",
    "#         self.dropout3 = nn.Dropout(0.2)\n",
    "        self.fc6 = nn.Linear(512, 256)\n",
    "        \n",
    "        # self.dropout4 = nn.Dropout(0.1)\n",
    "        self.fc7 = nn.Linear(256, 128)\n",
    "        self.fc8 = nn.Linear(128, 1)\n",
    "    \n",
    "    def forward(self, x):\n",
    "        x = torch.relu(self.fc1(x))\n",
    "#         x = self.dropout1(x)\n",
    "        x = torch.relu(self.fc2(x))\n",
    "#         x = self.dropout2(x)\n",
    "        x = torch.relu(self.fc3(x))\n",
    "#         x = self.dropout3(x)\n",
    "        x = torch.relu(self.fc4(x))\n",
    "        x = torch.relu(self.fca1(x))\n",
    "        x = torch.relu(self.fca2(x))\n",
    "        # x = self.dropout4(x)\n",
    "        x = torch.relu(self.fc5(x))\n",
    "        x = torch.relu(self.fc6(x))\n",
    "        x = torch.relu(self.fc7(x))        \n",
    "        x = torch.sigmoid(self.fc8(x))\n",
    "        return x\n",
    "\n",
    "\n",
    "model = WaterPotabilityNN()\n",
    "num_params = sum(p.numel() for p in model.parameters() if p.requires_grad)\n",
    "print(num_params)\n",
    "\n",
    "criterion = nn.MSELoss()  # Binary Cross-Entropy Loss\n",
    "optimizer = optim.RMSprop(model.parameters(), lr=0.000001)\n",
    "\n"
   ]
  },
  {
   "cell_type": "code",
   "execution_count": 23,
   "id": "055524c7",
   "metadata": {},
   "outputs": [],
   "source": [
    "def evaluate(model, data_loader, criterion):\n",
    "    model.eval()\n",
    "    losses = []\n",
    "    num_samples = 0\n",
    "\n",
    "    for i, (images, classes) in enumerate(data_loader):\n",
    "        num_samples += images.shape[0]\n",
    "        c = model(images)\n",
    "        loss = criterion(c, classes)\n",
    "        losses.append(loss.item() * images.shape[0])\n",
    "\n",
    "    loss = sum(losses) / num_samples\n",
    "    model.train()\n",
    "    return loss"
   ]
  },
  {
   "cell_type": "code",
   "execution_count": 24,
   "id": "19ead51d",
   "metadata": {},
   "outputs": [
    {
     "name": "stdout",
     "output_type": "stream",
     "text": [
      "Epoch 1/200, Loss: 0.24688322029950965\n",
      "Epoch 2/200, Loss: 0.24646142345803385\n",
      "Epoch 3/200, Loss: 0.24607130072954048\n",
      "Epoch 4/200, Loss: 0.2456686356822953\n",
      "Epoch 5/200, Loss: 0.24524875503914956\n",
      "Epoch 6/200, Loss: 0.2448206131012385\n",
      "Epoch 7/200, Loss: 0.2443617571401232\n",
      "Epoch 8/200, Loss: 0.24388901880224242\n",
      "Epoch 9/200, Loss: 0.24339151414296098\n",
      "Epoch 10/200, Loss: 0.24288711336277824\n",
      "Epoch 11/200, Loss: 0.24233370896514136\n",
      "Epoch 12/200, Loss: 0.2417343751847289\n",
      "Epoch 13/200, Loss: 0.24107610069158422\n",
      "Epoch 14/200, Loss: 0.24036085953694264\n",
      "Epoch 15/200, Loss: 0.2395590019590072\n",
      "Epoch 16/200, Loss: 0.23864567407214915\n",
      "Epoch 17/200, Loss: 0.23759902904506858\n",
      "Epoch 18/200, Loss: 0.2363622108033595\n",
      "Epoch 19/200, Loss: 0.23505127323037794\n",
      "Epoch 20/200, Loss: 0.2335742200603922\n",
      "Epoch 21/200, Loss: 0.2319899512383774\n",
      "Epoch 22/200, Loss: 0.23026202835199486\n",
      "Epoch 23/200, Loss: 0.22837757224800023\n",
      "Epoch 24/200, Loss: 0.22644038885149337\n",
      "Epoch 25/200, Loss: 0.22445042499604115\n",
      "Epoch 26/200, Loss: 0.22233527188992683\n",
      "Epoch 27/200, Loss: 0.22010762063601544\n",
      "Epoch 28/200, Loss: 0.21783411532412958\n",
      "Epoch 29/200, Loss: 0.21559474684354912\n",
      "Epoch 30/200, Loss: 0.21346195888428288\n",
      "Epoch 31/200, Loss: 0.2112784742626525\n",
      "Epoch 32/200, Loss: 0.20929559435098224\n",
      "Epoch 33/200, Loss: 0.20733584757069595\n",
      "Epoch 34/200, Loss: 0.20550687044631433\n",
      "Epoch 35/200, Loss: 0.20372987152965924\n",
      "Epoch 36/200, Loss: 0.20196986253024968\n",
      "Epoch 37/200, Loss: 0.20022207703299194\n",
      "Epoch 38/200, Loss: 0.19847500103575583\n",
      "Epoch 39/200, Loss: 0.19675324506887043\n",
      "Epoch 40/200, Loss: 0.195040546300757\n",
      "Epoch 41/200, Loss: 0.19328497969012223\n",
      "Epoch 42/200, Loss: 0.19145615153185283\n",
      "Epoch 43/200, Loss: 0.18960770261651688\n",
      "Epoch 44/200, Loss: 0.18772744798023283\n",
      "Epoch 45/200, Loss: 0.18580406888295675\n",
      "Epoch 46/200, Loss: 0.18376958902555568\n",
      "Epoch 47/200, Loss: 0.18167573588950034\n",
      "Epoch 48/200, Loss: 0.17952158956127312\n",
      "Epoch 49/200, Loss: 0.17731943619615248\n",
      "Epoch 50/200, Loss: 0.17505440743824907\n",
      "Epoch 51/200, Loss: 0.17282485993763871\n",
      "Epoch 52/200, Loss: 0.17062670124396112\n",
      "Epoch 53/200, Loss: 0.16850598909472692\n",
      "Epoch 54/200, Loss: 0.1664706294318192\n",
      "Epoch 55/200, Loss: 0.1645727872621012\n",
      "Epoch 56/200, Loss: 0.16271871626377105\n",
      "Epoch 57/200, Loss: 0.16089796733310205\n",
      "Epoch 58/200, Loss: 0.1591045479283078\n",
      "Epoch 59/200, Loss: 0.15736535334860097\n",
      "Epoch 60/200, Loss: 0.15567436165937032\n",
      "Epoch 61/200, Loss: 0.1540640267252012\n",
      "Epoch 62/200, Loss: 0.1525412195283948\n",
      "Epoch 63/200, Loss: 0.15110116416716393\n",
      "Epoch 64/200, Loss: 0.14972638649339895\n",
      "Epoch 65/200, Loss: 0.14836782685672964\n",
      "Epoch 66/200, Loss: 0.14708529394546538\n",
      "Epoch 67/200, Loss: 0.14585253944378773\n",
      "Epoch 68/200, Loss: 0.14459142013815524\n",
      "Epoch 69/200, Loss: 0.14337754347397172\n",
      "Epoch 70/200, Loss: 0.14227059408453585\n",
      "Epoch 71/200, Loss: 0.14122544483829091\n",
      "Epoch 72/200, Loss: 0.14024635450985595\n",
      "Epoch 73/200, Loss: 0.13929468482050278\n",
      "Epoch 74/200, Loss: 0.13838242581327453\n",
      "Epoch 75/200, Loss: 0.1374733749464268\n",
      "Epoch 76/200, Loss: 0.13666711522422675\n",
      "Epoch 77/200, Loss: 0.13582859983426013\n",
      "Epoch 78/200, Loss: 0.13507400433753283\n",
      "Epoch 79/200, Loss: 0.13426859604038355\n",
      "Epoch 80/200, Loss: 0.13357052713177586\n",
      "Epoch 81/200, Loss: 0.13287243738429236\n",
      "Epoch 82/200, Loss: 0.13223246878567543\n",
      "Epoch 83/200, Loss: 0.13151615421280607\n",
      "Epoch 84/200, Loss: 0.13087029504867\n",
      "Epoch 85/200, Loss: 0.1302950100361846\n",
      "Epoch 86/200, Loss: 0.12970276544339784\n",
      "Epoch 87/200, Loss: 0.1291439287990104\n",
      "Epoch 88/200, Loss: 0.12860764398147131\n",
      "Epoch 89/200, Loss: 0.12810720749028767\n",
      "Epoch 90/200, Loss: 0.1276594131729985\n",
      "Epoch 91/200, Loss: 0.1271718154654248\n",
      "Epoch 92/200, Loss: 0.12678567023222684\n",
      "Epoch 93/200, Loss: 0.12633230227777975\n",
      "Epoch 94/200, Loss: 0.12596503262983932\n",
      "Epoch 95/200, Loss: 0.12561195209508633\n",
      "Epoch 96/200, Loss: 0.12527897401165417\n",
      "Epoch 97/200, Loss: 0.12491302617633616\n",
      "Epoch 98/200, Loss: 0.12459762088442576\n",
      "Epoch 99/200, Loss: 0.1243433793764988\n",
      "Epoch 100/200, Loss: 0.1240948508145245\n",
      "Epoch 101/200, Loss: 0.12384335965145635\n",
      "Epoch 102/200, Loss: 0.12355967803310802\n",
      "Epoch 103/200, Loss: 0.12336820969144807\n",
      "Epoch 104/200, Loss: 0.12310098198078971\n",
      "Epoch 105/200, Loss: 0.12292859288117358\n",
      "Epoch 106/200, Loss: 0.12272063538090873\n",
      "Epoch 107/200, Loss: 0.1225485396180444\n",
      "Epoch 108/200, Loss: 0.12231757094841877\n",
      "Epoch 109/200, Loss: 0.12215865779924029\n",
      "Epoch 110/200, Loss: 0.12197842657111073\n",
      "Epoch 111/200, Loss: 0.12182217228958625\n",
      "Epoch 112/200, Loss: 0.12166783279590024\n",
      "Epoch 113/200, Loss: 0.12152209525344936\n",
      "Epoch 114/200, Loss: 0.12138310720902362\n",
      "Epoch 115/200, Loss: 0.12130027934340121\n",
      "Epoch 116/200, Loss: 0.12110015243746852\n",
      "Epoch 117/200, Loss: 0.12095635751731523\n",
      "Epoch 118/200, Loss: 0.12082908451557159\n",
      "Epoch 119/200, Loss: 0.12071182413865592\n",
      "Epoch 120/200, Loss: 0.12058221736482082\n",
      "Epoch 121/200, Loss: 0.12047063781104925\n",
      "Epoch 122/200, Loss: 0.12036013073138609\n",
      "Epoch 123/200, Loss: 0.12023786829628107\n",
      "Epoch 124/200, Loss: 0.12011173922596997\n",
      "Epoch 125/200, Loss: 0.12000088987459663\n",
      "Epoch 126/200, Loss: 0.11990472950780665\n",
      "Epoch 127/200, Loss: 0.11978186252917952\n",
      "Epoch 128/200, Loss: 0.11971457247970668\n",
      "Epoch 129/200, Loss: 0.1195919812976859\n",
      "Epoch 130/200, Loss: 0.11954624861023808\n",
      "Epoch 131/200, Loss: 0.11937868520048739\n",
      "Epoch 132/200, Loss: 0.1193207030077927\n",
      "Epoch 133/200, Loss: 0.11918670696611623\n",
      "Epoch 134/200, Loss: 0.11907548681470274\n",
      "Epoch 135/200, Loss: 0.11898730911371362\n",
      "Epoch 136/200, Loss: 0.11887480486895292\n",
      "Epoch 137/200, Loss: 0.1187693521949171\n",
      "Epoch 138/200, Loss: 0.11867362926252016\n",
      "Epoch 139/200, Loss: 0.11859095376411467\n",
      "Epoch 140/200, Loss: 0.11849066009958281\n",
      "Epoch 141/200, Loss: 0.11839312859846435\n",
      "Epoch 142/200, Loss: 0.118293486899547\n",
      "Epoch 143/200, Loss: 0.11820097285827608\n",
      "Epoch 144/200, Loss: 0.1181222028518451\n",
      "Epoch 145/200, Loss: 0.11801765674853143\n",
      "Epoch 146/200, Loss: 0.11798185267066227\n",
      "Epoch 147/200, Loss: 0.11785450391187012\n",
      "Epoch 148/200, Loss: 0.1178944232240888\n",
      "Epoch 149/200, Loss: 0.11768085203552973\n",
      "Epoch 150/200, Loss: 0.11762837649301718\n",
      "Epoch 151/200, Loss: 0.11749848324151439\n",
      "Epoch 152/200, Loss: 0.11741239508144728\n",
      "Epoch 153/200, Loss: 0.11734311084710915\n",
      "Epoch 154/200, Loss: 0.1173181381389385\n",
      "Epoch 155/200, Loss: 0.11715863449427917\n",
      "Epoch 156/200, Loss: 0.11711358921673462\n",
      "Epoch 157/200, Loss: 0.11699404283106782\n",
      "Epoch 158/200, Loss: 0.11695184140032484\n",
      "Epoch 159/200, Loss: 0.11683748362173561\n",
      "Epoch 160/200, Loss: 0.11677365773961744\n",
      "Epoch 161/200, Loss: 0.11672222771831141\n",
      "Epoch 162/200, Loss: 0.1166161622937399\n",
      "Epoch 163/200, Loss: 0.1165972678715946\n",
      "Epoch 164/200, Loss: 0.11647367857339729\n",
      "Epoch 165/200, Loss: 0.1163928268633726\n",
      "Epoch 166/200, Loss: 0.11631516747119773\n",
      "Epoch 167/200, Loss: 0.11625056623957539\n",
      "Epoch 168/200, Loss: 0.11618838403516143\n",
      "Epoch 169/200, Loss: 0.11629036122378503\n",
      "Epoch 170/200, Loss: 0.11603528568307862\n",
      "Epoch 171/200, Loss: 0.11596447051936433\n",
      "Epoch 172/200, Loss: 0.11589647704408369\n",
      "Epoch 173/200, Loss: 0.11584099692697744\n",
      "Epoch 174/200, Loss: 0.11578333753210898\n",
      "Epoch 175/200, Loss: 0.11578014422464007\n",
      "Epoch 176/200, Loss: 0.11567003506285543\n",
      "Epoch 177/200, Loss: 0.11558001727320766\n",
      "Epoch 178/200, Loss: 0.11550564198321059\n",
      "Epoch 179/200, Loss: 0.11544163816302787\n",
      "Epoch 180/200, Loss: 0.11540926160248181\n",
      "Epoch 181/200, Loss: 0.11534718692530202\n",
      "Epoch 182/200, Loss: 0.11526812909896138\n",
      "Epoch 183/200, Loss: 0.11519637793757534\n",
      "Epoch 184/200, Loss: 0.11515844284578135\n",
      "Epoch 185/200, Loss: 0.115107727596778\n",
      "Epoch 186/200, Loss: 0.11501499712467193\n",
      "Epoch 187/200, Loss: 0.11498433560815477\n",
      "Epoch 188/200, Loss: 0.11491217336809362\n",
      "Epoch 189/200, Loss: 0.11485532782687485\n",
      "Epoch 190/200, Loss: 0.11479481397239306\n",
      "Epoch 191/200, Loss: 0.11473676732933248\n",
      "Epoch 192/200, Loss: 0.11467976369930588\n",
      "Epoch 193/200, Loss: 0.11466378003131342\n",
      "Epoch 194/200, Loss: 0.11482173064510331\n",
      "Epoch 195/200, Loss: 0.11451063875023645\n",
      "Epoch 196/200, Loss: 0.11455786253204782\n",
      "Epoch 197/200, Loss: 0.1144103814968626\n",
      "Epoch 198/200, Loss: 0.11435916857182525\n",
      "Epoch 199/200, Loss: 0.11434830223558513\n",
      "Epoch 200/200, Loss: 0.11425023065268539\n",
      "Test Accuracy: 82.16%\n"
     ]
    }
   ],
   "source": [
    "num_epochs = 200\n",
    "model.train()\n",
    "for epoch in range(num_epochs):\n",
    "    for inputs, labels in train_loader:\n",
    "        # Forward pass\n",
    "        optimizer.zero_grad()\n",
    "        outputs = model(inputs)\n",
    "        # print(outputs.shape)\n",
    "        # print(labels.shape)\n",
    "        loss = criterion(outputs, labels)\n",
    "        # Backward pass and optimization\n",
    "        \n",
    "        loss.backward()\n",
    "        optimizer.step()\n",
    "    \n",
    "    epoch_loss = evaluate(model, train_loader, criterion)\n",
    "    \n",
    "    print(f'Epoch {epoch+1}/{num_epochs}, Loss: {epoch_loss}')\n",
    "\n",
    "\n",
    "\n",
    "# Evaluating the model\n",
    "model.eval()\n",
    "with torch.no_grad():\n",
    "    correct = 0\n",
    "    total = 0\n",
    "    for inputs, labels in test_loader:\n",
    "        outputs = model(inputs)\n",
    "        predicted = (outputs > 0.5).float()\n",
    "        total += labels.size(0)\n",
    "        correct += (predicted == labels).sum().item()\n",
    "    \n",
    "    accuracy = correct / total\n",
    "    print(f'Test Accuracy: {accuracy * 100:.2f}%')"
   ]
  },
  {
   "cell_type": "code",
   "execution_count": 25,
   "id": "f94c61b8",
   "metadata": {},
   "outputs": [
    {
     "name": "stdout",
     "output_type": "stream",
     "text": [
      "Test Accuracy: 81.17%\n"
     ]
    }
   ],
   "source": [
    "# Evaluating the model\n",
    "model.eval()\n",
    "accuracies = 0\n",
    "with torch.no_grad():\n",
    "    correct = 0\n",
    "    total = 0\n",
    "    for inputs, labels in test_loader:\n",
    "        outputs = model(inputs)\n",
    "        # print(outputs)\n",
    "        # print(labels)\n",
    "        predicted = (outputs > 0.5).float()\n",
    "        # print(predicted)\n",
    "        total += labels.size(0)\n",
    "        correct += (predicted == labels).sum().item()\n",
    "        accuracy = correct / total\n",
    "        accuracies+=accuracy    \n",
    "    accuracies = accuracies/len(test_loader)\n",
    "    print(f'Test Accuracy: {accuracies * 100:.2f}%')"
   ]
  },
  {
   "cell_type": "code",
   "execution_count": 26,
   "id": "d086b160",
   "metadata": {},
   "outputs": [],
   "source": [
    "scripted_model = torch.jit.script(model)\n",
    "scripted_model.save(\"water_potability.pt\")"
   ]
  },
  {
   "cell_type": "code",
   "execution_count": null,
   "id": "478826eb",
   "metadata": {},
   "outputs": [],
   "source": []
  }
 ],
 "metadata": {
  "kernelspec": {
   "display_name": "Python 3 (ipykernel)",
   "language": "python",
   "name": "python3"
  },
  "language_info": {
   "codemirror_mode": {
    "name": "ipython",
    "version": 3
   },
   "file_extension": ".py",
   "mimetype": "text/x-python",
   "name": "python",
   "nbconvert_exporter": "python",
   "pygments_lexer": "ipython3",
   "version": "3.9.12"
  }
 },
 "nbformat": 4,
 "nbformat_minor": 5
}
