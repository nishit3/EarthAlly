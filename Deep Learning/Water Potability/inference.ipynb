{
 "cells": [
  {
   "cell_type": "code",
   "execution_count": 1,
   "id": "4685dc04",
   "metadata": {},
   "outputs": [],
   "source": [
    "import numpy as np\n",
    "import pandas as pd\n",
    "import torch\n",
    "from torch.utils.data import DataLoader, TensorDataset, random_split\n",
    "from sklearn.preprocessing import StandardScaler\n",
    "import torch.nn as nn\n",
    "import torch.optim as optim\n",
    "model = torch.jit.load(\"water_potability.pt\")"
   ]
  },
  {
   "cell_type": "code",
   "execution_count": 2,
   "id": "f195a78a",
   "metadata": {},
   "outputs": [
    {
     "data": {
      "text/plain": [
       "RecursiveScriptModule(\n",
       "  original_name=WaterPotabilityNN\n",
       "  (fc1): RecursiveScriptModule(original_name=Linear)\n",
       "  (fc2): RecursiveScriptModule(original_name=Linear)\n",
       "  (fc3): RecursiveScriptModule(original_name=Linear)\n",
       "  (fc4): RecursiveScriptModule(original_name=Linear)\n",
       "  (fca1): RecursiveScriptModule(original_name=Linear)\n",
       "  (fca2): RecursiveScriptModule(original_name=Linear)\n",
       "  (fc5): RecursiveScriptModule(original_name=Linear)\n",
       "  (fc6): RecursiveScriptModule(original_name=Linear)\n",
       "  (fc7): RecursiveScriptModule(original_name=Linear)\n",
       "  (fc8): RecursiveScriptModule(original_name=Linear)\n",
       ")"
      ]
     },
     "execution_count": 2,
     "metadata": {},
     "output_type": "execute_result"
    }
   ],
   "source": [
    "model"
   ]
  },
  {
   "cell_type": "code",
   "execution_count": 13,
   "id": "495c81aa",
   "metadata": {},
   "outputs": [
    {
     "name": "stdout",
     "output_type": "stream",
     "text": [
      "Non-standardized input: [[1.11802840e+01 2.84845085e+04 4.37056200e+00]]\n",
      "Non-standardized output: 0\n"
     ]
    }
   ],
   "source": [
    "from torch.autograd import Variable\n",
    "input_mean = np.array([7.080795,22014.092526,3.966786])\n",
    "input_std = np.array([1.594320,8768.570828,0.780382])\n",
    "output_mean = 0.390110\n",
    "output_std = 0.487849\n",
    "\n",
    "def standardize(x):\n",
    "    return (x - input_mean.mean()) / input_std.mean()\n",
    "\n",
    "def destandardize(y):\n",
    "    return y * output_std + output_mean\n",
    "\n",
    "\n",
    "def predict_non_standardized(model, x_input_non_standardized):\n",
    "    # Standardize the input\n",
    "    x_standardized = standardize(x_input_non_standardized)\n",
    "    \n",
    "    # Convert to PyTorch tensor and add batch dimension\n",
    "    x_input = Variable(torch.Tensor(x_standardized)).unsqueeze(0)\n",
    "    \n",
    "    # Make prediction\n",
    "    x_out = model(x_input)\n",
    "    \n",
    "    # De-standardize the output\n",
    "    x_out_non_standardized = destandardize(x_out.item())\n",
    "    return 1 if x_out_non_standardized >= 0.45 else 0\n",
    "#     return x_out_non_standardized\n",
    "\n",
    "x_input_non_standardized = np.array([[11.180284,28484.50849,4.370562]])\n",
    "output = predict_non_standardized(model, x_input_non_standardized)\n",
    "print(f\"Non-standardized input: {x_input_non_standardized}\")\n",
    "print(f\"Non-standardized output: {output}\")"
   ]
  },
  {
   "cell_type": "code",
   "execution_count": null,
   "id": "89f9a7c2",
   "metadata": {},
   "outputs": [],
   "source": []
  },
  {
   "cell_type": "code",
   "execution_count": null,
   "id": "9b13c5a8",
   "metadata": {},
   "outputs": [],
   "source": []
  }
 ],
 "metadata": {
  "kernelspec": {
   "display_name": "Python 3 (ipykernel)",
   "language": "python",
   "name": "python3"
  },
  "language_info": {
   "codemirror_mode": {
    "name": "ipython",
    "version": 3
   },
   "file_extension": ".py",
   "mimetype": "text/x-python",
   "name": "python",
   "nbconvert_exporter": "python",
   "pygments_lexer": "ipython3",
   "version": "3.9.12"
  }
 },
 "nbformat": 4,
 "nbformat_minor": 5
}
